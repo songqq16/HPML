{
  "cells": [
    {
      "cell_type": "markdown",
      "metadata": {
        "id": "7z9ucNW-pl8D"
      },
      "source": [
        "**LAB3 HPML** \n",
        "\n",
        "Qingqing Song\\\n",
        "qs2097"
      ]
    },
    {
      "cell_type": "markdown",
      "metadata": {
        "id": "Lksyf3cYokM4"
      },
      "source": [
        "# Problem 1 - Weight Initialization, Dead Neurons, Leaky ReLU 20 points"
      ]
    },
    {
      "cell_type": "markdown",
      "metadata": {
        "id": "leXO5BgPpkq_"
      },
      "source": [
        "## 1）\n",
        "\n",
        "Explain vanishing gradients phenomenon using standard normalization with different values of standard deviation and tanh and sigmoid activation functions. Then show how Xavier (aka Glorot normal) initialization of weights helps in dealing with this problem. Next use ReLU activation and show that instead of Xavier initialization, He initialization works better for ReLU activation. You can plot activations at each of the 5 layers to answer this question. (8)\n",
        "\n",
        "\n",
        "\n",
        "\n",
        "\n",
        "\n"
      ]
    },
    {
      "cell_type": "code",
      "execution_count": 1,
      "metadata": {
        "colab": {
          "base_uri": "https://localhost:8080/"
        },
        "id": "OHnbM9QeMUcm",
        "outputId": "e562897e-0d13-4f45-9ce1-4d2ab3102c4c",
        "scrolled": true
      },
      "outputs": [
        {
          "output_type": "stream",
          "name": "stdout",
          "text": [
            "Requirement already satisfied: seaborn in /usr/local/lib/python3.7/dist-packages (0.11.2)\n",
            "Requirement already satisfied: pandas>=0.23 in /usr/local/lib/python3.7/dist-packages (from seaborn) (1.3.5)\n",
            "Requirement already satisfied: matplotlib>=2.2 in /usr/local/lib/python3.7/dist-packages (from seaborn) (3.2.2)\n",
            "Requirement already satisfied: numpy>=1.15 in /usr/local/lib/python3.7/dist-packages (from seaborn) (1.21.5)\n",
            "Requirement already satisfied: scipy>=1.0 in /usr/local/lib/python3.7/dist-packages (from seaborn) (1.4.1)\n",
            "Requirement already satisfied: python-dateutil>=2.1 in /usr/local/lib/python3.7/dist-packages (from matplotlib>=2.2->seaborn) (2.8.2)\n",
            "Requirement already satisfied: kiwisolver>=1.0.1 in /usr/local/lib/python3.7/dist-packages (from matplotlib>=2.2->seaborn) (1.4.0)\n",
            "Requirement already satisfied: cycler>=0.10 in /usr/local/lib/python3.7/dist-packages (from matplotlib>=2.2->seaborn) (0.11.0)\n",
            "Requirement already satisfied: pyparsing!=2.0.4,!=2.1.2,!=2.1.6,>=2.0.1 in /usr/local/lib/python3.7/dist-packages (from matplotlib>=2.2->seaborn) (3.0.7)\n",
            "Requirement already satisfied: typing-extensions in /usr/local/lib/python3.7/dist-packages (from kiwisolver>=1.0.1->matplotlib>=2.2->seaborn) (3.10.0.2)\n",
            "Requirement already satisfied: pytz>=2017.3 in /usr/local/lib/python3.7/dist-packages (from pandas>=0.23->seaborn) (2018.9)\n",
            "Requirement already satisfied: six>=1.5 in /usr/local/lib/python3.7/dist-packages (from python-dateutil>=2.1->matplotlib>=2.2->seaborn) (1.15.0)\n"
          ]
        }
      ],
      "source": [
        "import tensorflow as tf\n",
        "\n",
        "import keras\n",
        "import matplotlib.pyplot as plt\n",
        "import pandas as pd\n",
        "import numpy as np\n",
        "%pip install seaborn\n",
        "import seaborn as sns\n"
      ]
    },
    {
      "cell_type": "code",
      "execution_count": null,
      "metadata": {
        "id": "IgpLaqVcMUcv",
        "outputId": "93adcb3c-28d5-400a-f457-0bd982258f34"
      },
      "outputs": [
        {
          "name": "stdout",
          "output_type": "stream",
          "text": [
            "Python 3.8.6\r\n"
          ]
        }
      ],
      "source": [
        "!python --version"
      ]
    },
    {
      "cell_type": "code",
      "execution_count": 2,
      "metadata": {
        "id": "mpOYqhRZMUcw"
      },
      "outputs": [],
      "source": [
        "import tensorflow as tf\n",
        "\n",
        "from tensorflow.keras.losses import categorical_crossentropy\n",
        "from tensorflow.keras.optimizers import RMSprop\n",
        "from tensorflow.keras.models import Sequential\n",
        "from tensorflow.keras.datasets import mnist\n",
        "from tensorflow.keras import layers, Model\n",
        "from tensorflow.keras.utils import to_categorical\n",
        "from tensorflow.keras.layers import Dense\n",
        "from tensorflow.keras import backend as K\n",
        "import keras\n",
        "\n",
        "from matplotlib import rcParamsDefault\n",
        "import matplotlib.pyplot as plt\n",
        "import pandas as pd\n",
        "import numpy as np\n",
        "import seaborn as sns\n",
        "from tensorflow.keras import initializers\n",
        "from tensorflow.keras.datasets import mnist\n",
        "\n",
        "from matplotlib import rcParamsDefault\n",
        "import matplotlib.pyplot as plt\n",
        "import pandas as pd\n",
        "import numpy as np\n",
        "import seaborn as sns\n",
        "from tensorflow.keras import initializers\n",
        "from tensorflow.keras.datasets import mnist\n",
        "import tensorflow as tf\n",
        "from tensorflow.keras.models import Sequential\n",
        "from tensorflow.keras.datasets import mnist\n",
        "from tensorflow.keras import layers, Model\n",
        "from tensorflow.keras.utils import to_categorical\n",
        "\n",
        "from tensorflow.keras.datasets import fashion_mnist\n",
        "import pandas as pd\n",
        "import matplotlib.pyplot as plt\n",
        "from tensorflow.keras.callbacks import *\n",
        "from tensorflow.keras import backend as K\n",
        "import numpy as np\n",
        "\n",
        "import tensorflow as tf\n",
        "from tensorflow import keras\n",
        "from tensorflow.keras.datasets import cifar10\n",
        "from tensorflow.keras import layers, Model\n",
        "from tensorflow.keras.utils import to_categorical"
      ]
    },
    {
      "cell_type": "code",
      "execution_count": null,
      "metadata": {
        "id": "xHObJWeKUZLJ"
      },
      "outputs": [],
      "source": [
        "#code from https://github.com/intoli/intoli-article-materials/blob/master/articles/neural-network-initialization/utils.py\n",
        "import tensorflow as tf\n",
        "\n",
        "from tensorflow.keras.losses import categorical_crossentropy\n",
        "from tensorflow.keras.optimizers import RMSprop\n",
        "from tensorflow.keras.models import Sequential\n",
        "from tensorflow.keras.datasets import mnist\n",
        "from tensorflow.keras import layers, Model\n",
        "from tensorflow.keras.utils import to_categorical\n",
        "from tensorflow.keras.layers import Dense\n",
        "from tensorflow.keras import backend as K\n",
        "import keras\n",
        "#from keras import initializations\n",
        "from keras import initializers\n",
        "\n",
        "K.clear_session()\n",
        "\n",
        "def grid_axes_it(n_plots, n_cols=3, enumerate=False, fig=None):\n",
        "    \"\"\"\n",
        "    Iterate through Axes objects on a grid with n_cols columns and as many\n",
        "    rows as needed to accommodate n_plots many plots.\n",
        "    Args:\n",
        "        n_plots: Number of plots to plot onto figure.\n",
        "        n_cols: Number of columns to divide the figure into.\n",
        "        fig: Optional figure reference.\n",
        "    Yields:\n",
        "        n_plots many Axes objects on a grid.\n",
        "    \"\"\"\n",
        "    n_rows = n_plots / n_cols + int(n_plots % n_cols > 0)\n",
        "\n",
        "    if not fig:\n",
        "        default_figsize = rcParamsDefault['figure.figsize']\n",
        "        fig = plt.figure(figsize=(\n",
        "            default_figsize[0] * n_cols,\n",
        "            default_figsize[1] * n_rows\n",
        "        ))\n",
        "\n",
        "    for i in range(1, n_plots + 1):\n",
        "        ax = plt.subplot(n_rows, n_cols, i)\n",
        "        yield ax\n",
        "\n",
        "\n",
        "def create_mlp_model(\n",
        "    n_hidden_layers,\n",
        "    dim_layer,\n",
        "    input_shape,\n",
        "    n_classes,\n",
        "    kernel_initializer,\n",
        "    bias_initializer,\n",
        "    activation,\n",
        "):\n",
        "    \"\"\"Create Multi-Layer Perceptron with given parameters.\"\"\"\n",
        "    model = Sequential()\n",
        "    model.add(Dense(dim_layer, input_shape=input_shape, kernel_initializer=kernel_initializer,\n",
        "                    bias_initializer=bias_initializer))\n",
        "    for i in range(n_hidden_layers):\n",
        "        model.add(Dense(dim_layer, activation=activation, kernel_initializer=kernel_initializer,\n",
        "                        bias_initializer=bias_initializer))\n",
        "    model.add(Dense(n_classes, activation='softmax', kernel_initializer=kernel_initializer,\n",
        "                    bias_initializer=bias_initializer))\n",
        "    return model\n",
        "\n",
        "\n",
        "def create_cnn_model(input_shape, num_classes, kernel_initializer='glorot_uniform',\n",
        "                     bias_initializer='zeros'):\n",
        "    \"\"\"Create CNN model similar to\n",
        "       https://github.com/keras-team/keras/blob/master/examples/mnist_cnn.py.\"\"\"\n",
        "    model = Sequential()\n",
        "    model.add(Conv2D(32, kernel_size=(3, 3),\n",
        "                     activation='relu',\n",
        "                     input_shape=input_shape,\n",
        "                     kernel_initializer=kernel_initializer,\n",
        "                     bias_initializer=bias_initializer))\n",
        "    model.add(Conv2D(64, (3, 3), activation='relu',\n",
        "                     kernel_initializer=kernel_initializer,\n",
        "                     bias_initializer=bias_initializer))\n",
        "    model.add(MaxPooling2D(pool_size=(2, 2)))\n",
        "    model.add(Dropout(0.25))\n",
        "    model.add(Flatten())\n",
        "    model.add(Dense(128, activation='relu',\n",
        "                    kernel_initializer=kernel_initializer,\n",
        "                    bias_initializer=bias_initializer))\n",
        "    model.add(Dropout(0.5))\n",
        "    model.add(Dense(num_classes, activation='softmax',\n",
        "                    kernel_initializer=kernel_initializer,\n",
        "                    bias_initializer=bias_initializer))\n",
        "    return model\n",
        "\n",
        "\n",
        "def compile_model(model):\n",
        "    model.compile(loss=categorical_crossentropy,\n",
        "                  optimizer=RMSprop(),\n",
        "                  metrics=['accuracy'])\n",
        "    return model\n",
        "\n",
        "\n",
        "def get_init_id(init):\n",
        "    \"\"\"\n",
        "    Returns string ID summarizing initialization scheme and its parameters.\n",
        "    Args:\n",
        "        init: Instance of some initializer from keras.initializers.\n",
        "    \"\"\"\n",
        "    try:\n",
        "        init_name = str(init).split('.')[2].split(' ')[0]\n",
        "    except:\n",
        "        init_name = str(init).split(' ')[0].replace('.', '_')\n",
        "\n",
        "    param_list = []\n",
        "    config = init.get_config()\n",
        "    for k, v in config.items():\n",
        "        if k == 'seed':\n",
        "            continue\n",
        "        param_list.append('{k}-{v}'.format(k=k, v=v))\n",
        "    init_params = '__'.join(param_list)\n",
        "\n",
        "    return '|'.join([init_name, init_params])\n",
        "\n",
        "\n",
        "def get_activations(model, x):\n",
        "    \"\"\"Extract activations with given model and input vector x.\"\"\"\n",
        "    outputs = [layer.output for layer in model.layers]\n",
        "    activations = K.function([model.input], outputs)\n",
        "    output_elts = activations([x])\n",
        "    return output_elts\n",
        "\n",
        "\n",
        "class LossHistory(keras.callbacks.Callback):\n",
        "    \"\"\"A custom keras callback for recording losses during network training.\"\"\"\n",
        "\n",
        "    def on_train_begin(self, logs={}):\n",
        "        self.losses = []\n",
        "        self.epoch_losses = []\n",
        "        self.epoch_val_losses = []\n",
        "\n",
        "    def on_batch_end(self, batch, logs={}):\n",
        "        self.losses.append(logs.get('loss'))\n",
        "\n",
        "    def on_epoch_end(self, epoch, logs={}):\n",
        "        self.epoch_losses.append(logs.get('loss'))\n",
        "        self.epoch_val_losses.append(logs.get('val_loss'))\n"
      ]
    },
    {
      "cell_type": "code",
      "execution_count": null,
      "metadata": {
        "id": "041ZKWGfDDKU"
      },
      "outputs": [],
      "source": [
        "\n",
        "seed = 10\n",
        "\n",
        "# Number of points to plot\n",
        "n_train = 1000\n",
        "n_test = 100\n",
        "n_classes = 10\n",
        "\n",
        "# Network params\n",
        "n_hidden_layers = 5\n",
        "dim_layer = 100\n",
        "batch_size = n_train\n",
        "epochs = 1\n",
        "\n",
        "# Load and prepare MNIST dataset.\n",
        "n_train = 60000\n",
        "n_test = 10000\n",
        "\n",
        "(x_train, y_train), (x_test, y_test) = mnist.load_data()\n",
        "num_classes = len(np.unique(y_test))\n",
        "data_dim = 28 * 28\n",
        "\n",
        "x_train = x_train.reshape(60000, 784).astype('float32')[:n_train]\n",
        "x_test = x_test.reshape(10000, 784).astype('float32')[:n_train]\n",
        "x_train /= 255\n",
        "x_test /= 255\n",
        "\n",
        "y_train = keras.utils.np_utils.to_categorical(y_train, num_classes)\n",
        "y_test = keras.utils.np_utils.to_categorical(y_test, num_classes)\n",
        "# Run the data through a few MLP models and save the activations from\n",
        "# each layer into a Pandas DataFrame.\n",
        "rows = []\n",
        "sigmas = [0.10, 0.14, 0.28]"
      ]
    },
    {
      "cell_type": "markdown",
      "metadata": {
        "id": "DZdzzOlnFaHs"
      },
      "source": [
        "Initialize weights here using standard normalization:"
      ]
    },
    {
      "cell_type": "code",
      "execution_count": null,
      "metadata": {
        "colab": {
          "base_uri": "https://localhost:8080/",
          "height": 441
        },
        "id": "OoUlkES5Ufls",
        "outputId": "627a78e4-8498-4b6b-9780-3102888e889d"
      },
      "outputs": [
        {
          "name": "stderr",
          "output_type": "stream",
          "text": [
            "<ipython-input-5-f5a236607ffa>:39: MatplotlibDeprecationWarning: Passing non-integers as three-element position specification is deprecated since 3.3 and will be removed two minor releases later.\n",
            "  ax = plt.subplot(n_rows, n_cols, i)\n",
            "<ipython-input-5-f5a236607ffa>:39: MatplotlibDeprecationWarning: Passing non-integers as three-element position specification is deprecated since 3.3 and will be removed two minor releases later.\n",
            "  ax = plt.subplot(n_rows, n_cols, i)\n",
            "<ipython-input-5-f5a236607ffa>:39: MatplotlibDeprecationWarning: Passing non-integers as three-element position specification is deprecated since 3.3 and will be removed two minor releases later.\n",
            "  ax = plt.subplot(n_rows, n_cols, i)\n"
          ]
        },
        {
          "data": {
            "image/png": "[encoded data removed]",
            "text/plain": [
              "<Figure size 864x432 with 3 Axes>"
            ]
          },
          "metadata": {
            "needs_background": "light"
          },
          "output_type": "display_data"
        }
      ],
      "source": [
        "# initialize weights here using standard normalization \n",
        "\n",
        "for stddev in sigmas:\n",
        "    init = initializers.RandomNormal(mean=0.0, stddev=stddev, seed=seed)\n",
        "    activation = 'relu'\n",
        "\n",
        "    model = create_mlp_model(\n",
        "        n_hidden_layers,\n",
        "        dim_layer,\n",
        "        (data_dim,),\n",
        "        n_classes,\n",
        "        init,\n",
        "        'zeros',\n",
        "        activation\n",
        "    )\n",
        "    compile_model(model)\n",
        "    output_elts = get_activations(model, x_test)\n",
        "    n_layers = len(model.layers)\n",
        "    i_output_layer = n_layers - 1\n",
        "\n",
        "    for i, out in enumerate(output_elts[:-1]):\n",
        "        if i > 0 and i != i_output_layer:\n",
        "            for out_i in out.ravel()[::20]:\n",
        "                rows.append([i, stddev, out_i])\n",
        "\n",
        "df = pd.DataFrame(rows, columns=['Hidden Layer', 'Standard Deviation', 'Output'])\n",
        "\n",
        "# Plot previously saved activations from the 5 hidden layers\n",
        "# using different initialization schemes.\n",
        "fig = plt.figure(figsize=(12, 6))\n",
        "axes = grid_axes_it(len(sigmas), 1, fig=fig)\n",
        "for sig in sigmas:\n",
        "    ax = next(axes)\n",
        "    ddf = df[df['Standard Deviation'] == sig]\n",
        "    sns.violinplot(x='Hidden Layer', y='Output', data=ddf, ax=ax, scale='count', inner=None)\n",
        "\n",
        "    ax.set_xlabel('')\n",
        "    ax.set_ylabel('')\n",
        "\n",
        "    ax.set_title('Weights Drawn from $N(\\mu = 0, \\sigma = {%.2f})$' % sig, fontsize=13)\n",
        "\n",
        "    if sig == sigmas[1]:\n",
        "        ax.set_ylabel(\"ReLu Neuron Outputs\")\n",
        "    if sig != sigmas[-1]:\n",
        "        ax.set_xticklabels(())\n",
        "    else:\n",
        "        ax.set_xlabel(\"Hidden Layer\")\n",
        "\n",
        "plt.tight_layout()\n",
        "plt.show()"
      ]
    },
    {
      "cell_type": "markdown",
      "metadata": {
        "id": "L1l0lFuOGEj6"
      },
      "source": [
        "Initialize weights using standard normalization.\\\n",
        " Use activation function tanh :"
      ]
    },
    {
      "cell_type": "code",
      "execution_count": null,
      "metadata": {
        "colab": {
          "base_uri": "https://localhost:8080/",
          "height": 441
        },
        "id": "hdUplSOQ3Cjj",
        "outputId": "2694d061-ab83-41c5-e1e5-d0f3443472d9"
      },
      "outputs": [
        {
          "name": "stderr",
          "output_type": "stream",
          "text": [
            "<ipython-input-5-f5a236607ffa>:39: MatplotlibDeprecationWarning: Passing non-integers as three-element position specification is deprecated since 3.3 and will be removed two minor releases later.\n",
            "  ax = plt.subplot(n_rows, n_cols, i)\n",
            "<ipython-input-5-f5a236607ffa>:39: MatplotlibDeprecationWarning: Passing non-integers as three-element position specification is deprecated since 3.3 and will be removed two minor releases later.\n",
            "  ax = plt.subplot(n_rows, n_cols, i)\n",
            "<ipython-input-5-f5a236607ffa>:39: MatplotlibDeprecationWarning: Passing non-integers as three-element position specification is deprecated since 3.3 and will be removed two minor releases later.\n",
            "  ax = plt.subplot(n_rows, n_cols, i)\n"
          ]
        },
        {
          "data": {
            "image/png": "[encoded data removed]",
            "text/plain": [
              "<Figure size 864x432 with 3 Axes>"
            ]
          },
          "metadata": {
            "needs_background": "light"
          },
          "output_type": "display_data"
        }
      ],
      "source": [
        "#activation function  tanh \n",
        "\n",
        "# Run the data through a few MLP models and save the activations from\n",
        "# each layer into a Pandas DataFrame.\n",
        "rows.clear()\n",
        "\n",
        "\n",
        "for stddev in sigmas:\n",
        "    init = initializers.RandomNormal(mean=0.0, stddev=stddev, seed=seed)\n",
        "    activation = 'tanh'\n",
        "\n",
        "    model2 = create_mlp_model(\n",
        "        n_hidden_layers,\n",
        "        dim_layer,\n",
        "        (data_dim,),\n",
        "        n_classes,\n",
        "        init,\n",
        "        'zeros',\n",
        "        activation\n",
        "    )\n",
        "    compile_model(model2)\n",
        "    output_elts = get_activations(model2, x_test)\n",
        "    n_layers = len(model2.layers)\n",
        "    i_output_layer = n_layers - 1\n",
        "\n",
        "    for i, out in enumerate(output_elts[:-1]):\n",
        "        if i > 0 and i != i_output_layer:\n",
        "            for out_i in out.ravel()[::20]:\n",
        "                rows.append([i, stddev, out_i])\n",
        "\n",
        "df = pd.DataFrame(rows, columns=['Hidden Layer', 'Standard Deviation', 'Output'])\n",
        "\n",
        "# Plot previously saved activations from the 5 hidden layers\n",
        "# using different initialization schemes.\n",
        "fig = plt.figure(figsize=(12, 6))\n",
        "axes = grid_axes_it(len(sigmas), 1, fig=fig)\n",
        "for sig in sigmas:\n",
        "    ax = next(axes)\n",
        "    ddf = df[df['Standard Deviation'] == sig]\n",
        "    sns.violinplot(x='Hidden Layer', y='Output', data=ddf, ax=ax, scale='count', inner=None)\n",
        "\n",
        "    ax.set_xlabel('')\n",
        "    ax.set_ylabel('')\n",
        "\n",
        "    ax.set_title('Weights Drawn from $N(\\mu = 0, \\sigma = {%.2f})$' % sig, fontsize=13)\n",
        "\n",
        "    if sig == sigmas[1]:\n",
        "        ax.set_ylabel(\"tanh Neuron Outputs\")\n",
        "    if sig != sigmas[-1]:\n",
        "        ax.set_xticklabels(())\n",
        "    else:\n",
        "        ax.set_xlabel(\"Hidden Layer\")\n",
        "\n",
        "plt.tight_layout()\n",
        "plt.show()"
      ]
    },
    {
      "cell_type": "markdown",
      "metadata": {
        "id": "1IDD55p6GTZ4"
      },
      "source": [
        "Initialize weights using standard normalization.\\\n",
        "Use activation function sigmoid : "
      ]
    },
    {
      "cell_type": "code",
      "execution_count": null,
      "metadata": {
        "colab": {
          "base_uri": "https://localhost:8080/",
          "height": 441
        },
        "id": "pMYtM78F3BwO",
        "outputId": "ef3dea03-97c3-4c42-9444-e8c64e8005a0"
      },
      "outputs": [
        {
          "name": "stderr",
          "output_type": "stream",
          "text": [
            "<ipython-input-5-f5a236607ffa>:39: MatplotlibDeprecationWarning: Passing non-integers as three-element position specification is deprecated since 3.3 and will be removed two minor releases later.\n",
            "  ax = plt.subplot(n_rows, n_cols, i)\n",
            "<ipython-input-5-f5a236607ffa>:39: MatplotlibDeprecationWarning: Passing non-integers as three-element position specification is deprecated since 3.3 and will be removed two minor releases later.\n",
            "  ax = plt.subplot(n_rows, n_cols, i)\n",
            "<ipython-input-5-f5a236607ffa>:39: MatplotlibDeprecationWarning: Passing non-integers as three-element position specification is deprecated since 3.3 and will be removed two minor releases later.\n",
            "  ax = plt.subplot(n_rows, n_cols, i)\n"
          ]
        },
        {
          "data": {
            "image/png": "[encoded data removed]",
            "text/plain": [
              "<Figure size 864x432 with 3 Axes>"
            ]
          },
          "metadata": {
            "needs_background": "light"
          },
          "output_type": "display_data"
        }
      ],
      "source": [
        "# activation function sigmoid\n",
        "\n",
        "rows.clear()\n",
        "\n",
        "for stddev in sigmas:\n",
        "    init = initializers.RandomNormal(mean=0.0, stddev=stddev, seed=seed)\n",
        "    activation = 'sigmoid'\n",
        "\n",
        "    model3 = create_mlp_model(\n",
        "        n_hidden_layers,\n",
        "        dim_layer,\n",
        "        (data_dim,),\n",
        "        n_classes,\n",
        "        init,\n",
        "        'zeros',\n",
        "        activation\n",
        "    )\n",
        "    compile_model(model3)\n",
        "    output_elts = get_activations(model3, x_test)\n",
        "    n_layers = len(model3.layers)\n",
        "    i_output_layer = n_layers - 1\n",
        "\n",
        "    for i, out in enumerate(output_elts[:-1]):\n",
        "        if i > 0 and i != i_output_layer:\n",
        "            for out_i in out.ravel()[::20]:\n",
        "                rows.append([i, stddev, out_i])\n",
        "\n",
        "df = pd.DataFrame(rows, columns=['Hidden Layer', 'Standard Deviation', 'Output'])\n",
        "\n",
        "# Plot previously saved activations from the 5 hidden layers\n",
        "# using different initialization schemes.\n",
        "fig = plt.figure(figsize=(12, 6))\n",
        "axes = grid_axes_it(len(sigmas), 1, fig=fig)\n",
        "for sig in sigmas:\n",
        "    ax = next(axes)\n",
        "    ddf = df[df['Standard Deviation'] == sig]\n",
        "    sns.violinplot(x='Hidden Layer', y='Output', data=ddf, ax=ax, scale='count', inner=None)\n",
        "\n",
        "    ax.set_xlabel('')\n",
        "    ax.set_ylabel('')\n",
        "\n",
        "    ax.set_title('Weights Drawn from $N(\\mu = 0, \\sigma = {%.2f})$' % sig, fontsize=13)\n",
        "\n",
        "    if sig == sigmas[1]:\n",
        "        ax.set_ylabel(\"sigmoid Neuron Outputs\")\n",
        "    if sig != sigmas[-1]:\n",
        "        ax.set_xticklabels(())\n",
        "    else:\n",
        "        ax.set_xlabel(\"Hidden Layer\")\n",
        "\n",
        "plt.tight_layout()\n",
        "plt.show()"
      ]
    },
    {
      "cell_type": "markdown",
      "metadata": {
        "id": "N_0AcF3uGvYc"
      },
      "source": [
        "Report your observations about vanishing gradients."
      ]
    },
    {
      "cell_type": "markdown",
      "metadata": {
        "id": "KWprl6ldIVto"
      },
      "source": [
        "ReLU activation with 2 different weight initialization methods: 1. Glorot normal(Xavier) 2. He."
      ]
    },
    {
      "cell_type": "code",
      "execution_count": null,
      "metadata": {
        "id": "r1dyUdy9IvXI",
        "outputId": "0448d646-fe3e-484e-86b9-f898f2517088"
      },
      "outputs": [
        {
          "name": "stderr",
          "output_type": "stream",
          "text": [
            "<ipython-input-5-f5a236607ffa>:39: MatplotlibDeprecationWarning: Passing non-integers as three-element position specification is deprecated since 3.3 and will be removed two minor releases later.\n",
            "  ax = plt.subplot(n_rows, n_cols, i)\n",
            "<ipython-input-5-f5a236607ffa>:39: MatplotlibDeprecationWarning: Passing non-integers as three-element position specification is deprecated since 3.3 and will be removed two minor releases later.\n",
            "  ax = plt.subplot(n_rows, n_cols, i)\n",
            "<ipython-input-5-f5a236607ffa>:39: MatplotlibDeprecationWarning: Passing non-integers as three-element position specification is deprecated since 3.3 and will be removed two minor releases later.\n",
            "  ax = plt.subplot(n_rows, n_cols, i)\n"
          ]
        },
        {
          "data": {
            "image/png": "[encoded data removed]",
            "text/plain": [
              "<Figure size 864x432 with 3 Axes>"
            ]
          },
          "metadata": {
            "needs_background": "light"
          },
          "output_type": "display_data"
        }
      ],
      "source": [
        "#ReLU activation with 2 different weight initialization methods: 1. Glorot normal(Xavier) \n",
        "\n",
        "\n",
        "\n",
        "rows.clear()\n",
        "\n",
        "for stddev in sigmas:\n",
        "    init = initializers.GlorotNormal(seed=seed)\n",
        "    activation = 'relu'\n",
        "\n",
        "    model4 = create_mlp_model(\n",
        "        n_hidden_layers,\n",
        "        dim_layer,\n",
        "        (data_dim,),\n",
        "        n_classes,\n",
        "        init,\n",
        "        'zeros',\n",
        "        activation\n",
        "    )\n",
        "    compile_model(model4)\n",
        "    output_elts = get_activations(model4, x_test)\n",
        "    n_layers = len(model4.layers)\n",
        "    i_output_layer = n_layers - 1\n",
        "\n",
        "    for i, out in enumerate(output_elts[:-1]):\n",
        "        if i > 0 and i != i_output_layer:\n",
        "            for out_i in out.ravel()[::20]:\n",
        "                rows.append([i, stddev, out_i])\n",
        "\n",
        "df = pd.DataFrame(rows, columns=['Hidden Layer', 'Standard Deviation', 'Output'])\n",
        "\n",
        "# Plot previously saved activations from the 5 hidden layers\n",
        "# using different initialization schemes.\n",
        "fig = plt.figure(figsize=(12, 6))\n",
        "axes = grid_axes_it(len(sigmas), 1, fig=fig)\n",
        "for sig in sigmas:\n",
        "    ax = next(axes)\n",
        "    ddf = df[df['Standard Deviation'] == sig]\n",
        "    sns.violinplot(x='Hidden Layer', y='Output', data=ddf, ax=ax, scale='count', inner=None)\n",
        "\n",
        "    ax.set_xlabel('')\n",
        "    ax.set_ylabel('')\n",
        "\n",
        "    ax.set_title('Weights Drawn from $N(\\mu = 0, \\sigma = {%.2f})$' % sig, fontsize=13)\n",
        "\n",
        "    if sig == sigmas[1]:\n",
        "        ax.set_ylabel(\"ReLu Neuron Outputs\")\n",
        "    if sig != sigmas[-1]:\n",
        "        ax.set_xticklabels(())\n",
        "    else:\n",
        "        ax.set_xlabel(\"Hidden Layer\")\n",
        "\n",
        "plt.tight_layout()\n",
        "plt.show()"
      ]
    },
    {
      "cell_type": "markdown",
      "metadata": {
        "id": "igyfrOqRI4tn"
      },
      "source": [
        ""
      ]
    },
    {
      "cell_type": "code",
      "execution_count": null,
      "metadata": {
        "id": "lmkZmxWdI9QM",
        "outputId": "d320130d-9b21-4c17-f37f-b227f67a3b2e"
      },
      "outputs": [
        {
          "name": "stderr",
          "output_type": "stream",
          "text": [
            "<ipython-input-5-f5a236607ffa>:39: MatplotlibDeprecationWarning: Passing non-integers as three-element position specification is deprecated since 3.3 and will be removed two minor releases later.\n",
            "  ax = plt.subplot(n_rows, n_cols, i)\n",
            "<ipython-input-5-f5a236607ffa>:39: MatplotlibDeprecationWarning: Passing non-integers as three-element position specification is deprecated since 3.3 and will be removed two minor releases later.\n",
            "  ax = plt.subplot(n_rows, n_cols, i)\n",
            "<ipython-input-5-f5a236607ffa>:39: MatplotlibDeprecationWarning: Passing non-integers as three-element position specification is deprecated since 3.3 and will be removed two minor releases later.\n",
            "  ax = plt.subplot(n_rows, n_cols, i)\n"
          ]
        },
        {
          "data": {
            "image/png": "[encoded data removed]",
            "text/plain": [
              "<Figure size 864x432 with 3 Axes>"
            ]
          },
          "metadata": {
            "needs_background": "light"
          },
          "output_type": "display_data"
        }
      ],
      "source": [
        "#ReLU activation with 2 different weight initialization methods: 2 He\n",
        "rows.clear()\n",
        "\n",
        "for stddev in sigmas:\n",
        "    init = initializers.HeNormal(seed=None)\n",
        "    activation = 'relu'\n",
        "\n",
        "    model5 = create_mlp_model(\n",
        "        n_hidden_layers,\n",
        "        dim_layer,\n",
        "        (data_dim,),\n",
        "        n_classes,\n",
        "        init,\n",
        "        'zeros',\n",
        "        activation\n",
        "    )\n",
        "    compile_model(model5)\n",
        "    output_elts = get_activations(model5, x_test)\n",
        "    n_layers = len(model5.layers)\n",
        "    i_output_layer = n_layers - 1\n",
        "\n",
        "    for i, out in enumerate(output_elts[:-1]):\n",
        "        if i > 0 and i != i_output_layer:\n",
        "            for out_i in out.ravel()[::20]:\n",
        "                rows.append([i, stddev, out_i])\n",
        "\n",
        "df = pd.DataFrame(rows, columns=['Hidden Layer', 'Standard Deviation', 'Output'])\n",
        "\n",
        "# Plot previously saved activations from the 5 hidden layers\n",
        "# using different initialization schemes.\n",
        "fig = plt.figure(figsize=(12, 6))\n",
        "axes = grid_axes_it(len(sigmas), 1, fig=fig)\n",
        "for sig in sigmas:\n",
        "    ax = next(axes)\n",
        "    ddf = df[df['Standard Deviation'] == sig]\n",
        "    sns.violinplot(x='Hidden Layer', y='Output', data=ddf, ax=ax, scale='count', inner=None)\n",
        "\n",
        "    ax.set_xlabel('')\n",
        "    ax.set_ylabel('')\n",
        "\n",
        "    ax.set_title('Weights Drawn from $N(\\mu = 0, \\sigma = {%.2f})$' % sig, fontsize=13)\n",
        "\n",
        "    if sig == sigmas[1]:\n",
        "        ax.set_ylabel(\"ReLu Neuron Outputs\")\n",
        "    if sig != sigmas[-1]:\n",
        "        ax.set_xticklabels(())\n",
        "    else:\n",
        "        ax.set_xlabel(\"Hidden Layer\")\n",
        "\n",
        "plt.tight_layout()\n",
        "plt.show()"
      ]
    },
    {
      "cell_type": "markdown",
      "metadata": {
        "id": "iERCjdSFK01B"
      },
      "source": [
        "## 2)\n",
        "The dying ReLU is a kind of vanishing gradient, which refers to a problem when ReLU neurons become\n",
        "inactive and only output 0 for any input. In the worst case of dying ReLU, ReLU neurons at a certain\n",
        "layer are all dead, i.e., the entire network dies and is referred as the dying ReLU neural networks in\n",
        "Lu et al (reference below). A dying ReLU neural network collapses to a constant function. Show this\n",
        "phenomenon using any one of the three 1-dimensional functions in page 11 of Lu et al. Use a 10-layer\n",
        "ReLU network with width 2 (hidden units per layer). Use minibatch of 64 and draw training data\n",
        "uniformly from $[-\\sqrt{7},\\sqrt{7}]$ Perform 1000 independent training simulations each with 3,000 training\n",
        "points. Out of these 1000 simulations, what fraction resulted in neural network collapse. Is your\n",
        "answer close to over 90% as was reported in Lu et al. ?"
      ]
    },
    {
      "cell_type": "code",
      "execution_count": null,
      "metadata": {
        "id": "HW7buCr6LBQ7",
        "outputId": "8df9fed5-51e5-4185-aa7e-e4af1596a1f7"
      },
      "outputs": [
        {
          "name": "stdout",
          "output_type": "stream",
          "text": [
            "Defaulting to user installation because normal site-packages is not writeable\n",
            "Requirement already satisfied: tqdm in /home/qs2097/.local/lib/python3.8/site-packages (4.63.1)\n",
            "\u001b[33mWARNING: You are using pip version 20.2.3; however, version 22.0.4 is available.\n",
            "You should consider upgrading via the '/share/apps/python/3.8.6/intel/bin/python -m pip install --upgrade pip' command.\u001b[0m\n"
          ]
        },
        {
          "name": "stderr",
          "output_type": "stream",
          "text": [
            "100%|██████████| 1000/1000 [13:09<00:00,  1.27it/s]\n"
          ]
        }
      ],
      "source": [
        "!pip install tqdm\n",
        "from tqdm import tqdm\n",
        "\n",
        "def get_model(model_i, n_layers = 10):\n",
        "  \n",
        "  # define model\n",
        "  inputs = layers.Input(shape=(1,), dtype='float32', name=f'input_{model_i}')\n",
        "  x = layers.Dense(2, activation='relu', name=f'dense_{model_i}_0')(inputs)\n",
        "  for i in range(1, n_layers):\n",
        "    x = layers.Dense(2, activation='relu', name=f'dense_{model_i}_{i}')(x)\n",
        "  outputs = layers.Dense(1, name=f'output_{model_i}')(x)\n",
        "  model = Model(inputs=inputs, outputs=outputs, name=f\"sim_model_{model_i}\")\n",
        "\n",
        "  # compile\n",
        "  model.compile(loss='mse',\n",
        "                optimizer='adam')\n",
        "  \n",
        "  # return\n",
        "  return model\n",
        "\n",
        "\n",
        "# Define simulation variables\n",
        "n_train = 3000\n",
        "n_test = 1000\n",
        "n_sims = 1000\n",
        "collapsed_counter = 0\n",
        "\n",
        "for i in tqdm(range(n_sims), total=n_sims):\n",
        "\n",
        "  # draw data\n",
        "  X_train = np.random.uniform(low=-np.sqrt(7), high=np.sqrt(7), size=(n_train))\n",
        "  y_train = np.abs(X_train)\n",
        "\n",
        "  X_test = np.random.uniform(low=-np.sqrt(7), high=np.sqrt(7), size=(n_test))\n",
        "\n",
        "  # fetch model\n",
        "  model = get_model(f'{i}')\n",
        "\n",
        "\n",
        "  # fit\n",
        "  _ = model.fit(x=X_train,\n",
        "                y=y_train,\n",
        "                epochs=2,\n",
        "                batch_size=64,\n",
        "                verbose=0)\n",
        "  # predict\n",
        "  y_pred = model.predict(X_test)\n",
        "\n",
        "  # evaluate collapse\n",
        "  if np.var(y_pred) <= 10e-4:\n",
        "    collapsed_counter += 1"
      ]
    },
    {
      "cell_type": "code",
      "execution_count": null,
      "metadata": {
        "id": "stiSVgTzljTz",
        "outputId": "9e2730bc-adec-4c08-f886-861d59b45bcc"
      },
      "outputs": [
        {
          "name": "stdout",
          "output_type": "stream",
          "text": [
            " collapsed: 96.5 %\n"
          ]
        }
      ],
      "source": [
        "print(f\" collapsed: {collapsed_counter*100 / n_sims} %\")\n"
      ]
    },
    {
      "cell_type": "markdown",
      "metadata": {
        "id": "ED5r99tekC4D"
      },
      "source": [
        "## 3)\n",
        "\n",
        "Instead of ReLU consider Leaky ReLU activation as defined below: \n",
        "Run the 1000 training simulations in part 2 with Leaky ReLU activation and keep everything else the same. Again calculate the fraction of simulations that resulted in neural network collapse. Did Leaky ReLU help in preventing dying neurons? "
      ]
    },
    {
      "cell_type": "code",
      "execution_count": null,
      "metadata": {
        "id": "AdKSdCRXj6_z",
        "outputId": "89387a47-f788-429e-c14f-4a01a301adfa"
      },
      "outputs": [
        {
          "name": "stderr",
          "output_type": "stream",
          "text": [
            "100%|██████████| 1000/1000 [13:44<00:00,  1.21it/s]\n"
          ]
        }
      ],
      "source": [
        "def get_model(model_i, n_layers = 10):\n",
        "  \n",
        "  # define model\n",
        "  inputs = layers.Input(shape=(1,), dtype='float32', name=f'input_{model_i}')\n",
        "  x = layers.Dense(2, name=f'dense_{model_i}_0')(inputs)\n",
        "  x = layers.LeakyReLU(alpha=0.01, name=f'leaky_relu_{model_i}_0')(x)\n",
        "  for i in range(1, n_layers):\n",
        "    x = layers.Dense(2, name=f'dense_{model_i}_{i}')(x)\n",
        "    x = layers.LeakyReLU(alpha=0.01, name=f'leaky_relu_{model_i}_{i}')(x)\n",
        "  outputs = layers.Dense(1, name=f'output_{model_i}')(x)\n",
        "  model = Model(inputs=inputs, outputs=outputs, name=f\"sim_model_{model_i}\")\n",
        "\n",
        "  # compile\n",
        "  model.compile(loss='mse',\n",
        "                optimizer='adam')\n",
        "  \n",
        "  # return\n",
        "  return model\n",
        "\n",
        "\n",
        "# Define simulation variables\n",
        "n_train = 3000\n",
        "n_test = 1000\n",
        "n_sims = 1000\n",
        "collapsed_counter = 0\n",
        "\n",
        "for i in tqdm(range(n_sims), total=n_sims):\n",
        "\n",
        "  # draw data\n",
        "  X_train = np.random.uniform(low=-np.sqrt(7), high=np.sqrt(7), size=(n_train))\n",
        "  y_train = np.abs(X_train)\n",
        "\n",
        "  X_test = np.random.uniform(low=-np.sqrt(7), high=np.sqrt(7), size=(n_test))\n",
        "\n",
        "  # fetch model\n",
        "  model = get_model(f'{i}')\n",
        "\n",
        "  # fit\n",
        "  _ = model.fit(x=X_train,\n",
        "                y=y_train,\n",
        "                epochs=2,\n",
        "                batch_size=64,\n",
        "                verbose=0)\n",
        "  # predict\n",
        "  y_pred = model.predict(X_test)\n",
        "\n",
        "  # evaluate collapse\n",
        "  if np.var(y_pred) <= 10e-4:\n",
        "    collapsed_counter += 1"
      ]
    },
    {
      "cell_type": "code",
      "execution_count": null,
      "metadata": {
        "id": "Wfxj_XTIljT5"
      },
      "outputs": [],
      "source": [
        "print(f\" collapsed: {collapsed_counter*100 / n_sims} %\")"
      ]
    },
    {
      "cell_type": "markdown",
      "metadata": {
        "id": "y0446nEsljT5"
      },
      "source": [
        "Leaky ReLU help in preventing dying neurons."
      ]
    },
    {
      "cell_type": "markdown",
      "metadata": {
        "id": "uWpf9WA_pIBR"
      },
      "source": [
        "# Problem 2 - Batch Normalization, Dropout, MNIST 20 points"
      ]
    },
    {
      "cell_type": "markdown",
      "metadata": {
        "id": "-FtQ2-j1svTQ"
      },
      "source": [
        "## 1)\n",
        "Explain the terms co-adaptation and internal covariance-shift. Use examples if needed. You may need to refer to two papers mentioned below to answer this question. \n",
        "\n",
        "\n",
        "A:\n",
        "\n",
        "Co-adaption:\\\n",
        " Neurons should learn unique features of the data. If nearons behave highly correlated, that is Co-adaption. We can use dropout, or the practice of randomly droping connections in the network during training to fix it.\n",
        "\n",
        "\n",
        "Internal covariance-shift: \\\n",
        "The fact that the distribution of each layer’s inputs changes during\n",
        "training, as the parameters of the previous layers change.\n",
        "This slows down the training by requiring lower learning rates and careful parameter initialization, and makes it notoriously hard to train models with saturating nonlinearities.\n",
        "Solve: making normalization a part of the model architecture and performing the normalization for each training mini-batch. Batch Normalization allows us to use much higher learning rates and\n",
        "be less careful about initialization."
      ]
    },
    {
      "cell_type": "markdown",
      "metadata": {
        "id": "cdRuo2xPs1ll"
      },
      "source": [
        "## 2)\n",
        "\n",
        "Batch normalization is traditionally used in hidden layers, for the input layer standard normalization is used. In standard normalization, the mean and standard deviation are calculated using the entire training dataset whereas in batch normalization these statistics are calculated for each mini-batch. Train LeNet-5 with standard normalization of input and batch normalization for hidden layers. What are the learned batch norm parameters for each layer?"
      ]
    },
    {
      "cell_type": "code",
      "execution_count": null,
      "metadata": {
        "colab": {
          "base_uri": "https://localhost:8080/"
        },
        "id": "ofkrp5Zn3ZMV",
        "outputId": "777fbcc8-9420-4c3a-89b0-de5323dc473a"
      },
      "outputs": [
        {
          "name": "stdout",
          "output_type": "stream",
          "text": [
            "training: ((60000, 28, 28, 1), (60000, 10))\n",
            "testing: ((10000, 28, 28, 1), (10000, 10))\n"
          ]
        }
      ],
      "source": [
        "import tensorflow as tf\n",
        "from tensorflow.keras.models import Sequential\n",
        "from tensorflow.keras.datasets import mnist\n",
        "from tensorflow.keras import layers, Model\n",
        "from tensorflow.keras.utils import to_categorical\n",
        "\n",
        "# Load dataset as train and test sets\n",
        "from tensorflow.keras.datasets import mnist\n",
        "(x_train, y_train), (x_test, y_test) = mnist.load_data()\n",
        "\n",
        "# Set numeric type to float32 from uint8\n",
        "x_train = x_train.astype('float32')\n",
        "x_test = x_test.astype('float32')\n",
        "\n",
        "# Normalize value to [0, 1]\n",
        "x_train /= 255\n",
        "x_test /= 255\n",
        "\n",
        "x_train = (x_train -0.1307)/0.3081\n",
        "x_test = (x_test -0.1307)/0.3081\n",
        "\n",
        "# Transform lables to one-hot encoding\n",
        "y_train = to_categorical(y_train, 10)\n",
        "y_test = to_categorical(y_test, 10)\n",
        "\n",
        "# Reshape the dataset into 4D array\n",
        "x_train = x_train.reshape(x_train.shape[0], 28, 28, 1)\n",
        "x_test = x_test.reshape(x_test.shape[0], 28, 28, 1)\n",
        "\n",
        "print(f\"training: {x_train.shape, y_train.shape}\")\n",
        "print(f\"testing: {x_test.shape, y_test.shape}\")"
      ]
    },
    {
      "cell_type": "code",
      "execution_count": null,
      "metadata": {
        "id": "KqciWiSaLNnz"
      },
      "outputs": [],
      "source": [
        "def create_model(model_name):\n",
        "  \"\"\" Function to create the model \"\"\"\n",
        "\n",
        "  # Input layer of shape 28x28x1\n",
        "  inputs = layers.Input(shape=(28, 28, 1), dtype='float32')\n",
        "\n",
        "  # First convolution block\n",
        "  x = layers.Conv2D(filters=6,\n",
        "                    kernel_size=(5, 5),\n",
        "                    strides=(1, 1),\n",
        "                    activation='tanh',\n",
        "                    padding='same')(inputs)\n",
        "  x = layers.BatchNormalization()(x)\n",
        "  x = layers.AveragePooling2D(pool_size=(2, 2),\n",
        "                              strides=(2, 2),\n",
        "                              padding='valid')(x)\n",
        "\n",
        "  # Second convolution block\n",
        "  x = layers.Conv2D(filters=16,\n",
        "                    kernel_size=(5, 5),\n",
        "                    strides=(1, 1),\n",
        "                    activation='tanh',\n",
        "                    padding='valid')(x)\n",
        "  x = layers.BatchNormalization()(x)\n",
        "  x = layers.AveragePooling2D(pool_size=(2, 2),\n",
        "                              strides=(2, 2),\n",
        "                              padding='valid')(x)\n",
        "  \n",
        "  # Fully connected convolution layer\n",
        "  x = layers.Conv2D(filters=120,\n",
        "                    kernel_size=(5, 5),\n",
        "                    strides=(1, 1),\n",
        "                    activation='tanh',\n",
        "                    padding='valid')(x)\n",
        "  x = layers.BatchNormalization()(x)\n",
        "\n",
        "  # Flatten and create dense layer\n",
        "  x = layers.Flatten()(x)\n",
        "  x = layers.Dense(84, activation='tanh')(x)\n",
        "  x = layers.BatchNormalization()(x)\n",
        "\n",
        "  # Output layer with softmax probability activation\n",
        "  outputs = layers.Dense(10, activation='softmax')(x)\n",
        "\n",
        "  # Create the model and return\n",
        "  model = Model(inputs=inputs, outputs=outputs, name=model_name)\n",
        "  return model"
      ]
    },
    {
      "cell_type": "code",
      "execution_count": null,
      "metadata": {
        "colab": {
          "base_uri": "https://localhost:8080/"
        },
        "id": "RrR4TveE3nhx",
        "outputId": "717654cd-727a-40d7-ebf6-4629ad51d3ef"
      },
      "outputs": [
        {
          "name": "stdout",
          "output_type": "stream",
          "text": [
            "Model: \"lenet5_q2\"\n",
            "_________________________________________________________________\n",
            " Layer (type)                Output Shape              Param #   \n",
            "=================================================================\n",
            " input_1 (InputLayer)        [(None, 28, 28, 1)]       0         \n",
            "                                                                 \n",
            " conv2d (Conv2D)             (None, 28, 28, 6)         156       \n",
            "                                                                 \n",
            " batch_normalization (BatchN  (None, 28, 28, 6)        24        \n",
            " ormalization)                                                   \n",
            "                                                                 \n",
            " average_pooling2d (AverageP  (None, 14, 14, 6)        0         \n",
            " ooling2D)                                                       \n",
            "                                                                 \n",
            " conv2d_1 (Conv2D)           (None, 10, 10, 16)        2416      \n",
            "                                                                 \n",
            " batch_normalization_1 (Batc  (None, 10, 10, 16)       64        \n",
            " hNormalization)                                                 \n",
            "                                                                 \n",
            " average_pooling2d_1 (Averag  (None, 5, 5, 16)         0         \n",
            " ePooling2D)                                                     \n",
            "                                                                 \n",
            " conv2d_2 (Conv2D)           (None, 1, 1, 120)         48120     \n",
            "                                                                 \n",
            " batch_normalization_2 (Batc  (None, 1, 1, 120)        480       \n",
            " hNormalization)                                                 \n",
            "                                                                 \n",
            " flatten (Flatten)           (None, 120)               0         \n",
            "                                                                 \n",
            " dense_105 (Dense)           (None, 84)                10164     \n",
            "                                                                 \n",
            " batch_normalization_3 (Batc  (None, 84)               336       \n",
            " hNormalization)                                                 \n",
            "                                                                 \n",
            " dense_106 (Dense)           (None, 10)                850       \n",
            "                                                                 \n",
            "=================================================================\n",
            "Total params: 62,610\n",
            "Trainable params: 62,158\n",
            "Non-trainable params: 452\n",
            "_________________________________________________________________\n"
          ]
        }
      ],
      "source": [
        "model = create_model(model_name='lenet5_q2')\n",
        "model.compile(loss=tf.keras.losses.categorical_crossentropy,\n",
        "              optimizer='SGD',\n",
        "              metrics=['accuracy'])\n",
        "model.summary()"
      ]
    },
    {
      "cell_type": "code",
      "execution_count": null,
      "metadata": {
        "colab": {
          "base_uri": "https://localhost:8080/"
        },
        "id": "PM_U2hfX3_fu",
        "outputId": "8f33187a-dce4-4b01-b398-700cb4e1e3ae"
      },
      "outputs": [
        {
          "name": "stdout",
          "output_type": "stream",
          "text": [
            "Epoch 1/10\n",
            "469/469 [==============================] - 34s 72ms/step - loss: 0.2668 - accuracy: 0.9276 - val_loss: 0.1261 - val_accuracy: 0.9705\n",
            "Epoch 2/10\n",
            "469/469 [==============================] - 33s 71ms/step - loss: 0.1062 - accuracy: 0.9717 - val_loss: 0.0825 - val_accuracy: 0.9782\n",
            "Epoch 3/10\n",
            "469/469 [==============================] - 34s 72ms/step - loss: 0.0789 - accuracy: 0.9783 - val_loss: 0.0699 - val_accuracy: 0.9796\n",
            "Epoch 4/10\n",
            "469/469 [==============================] - 34s 72ms/step - loss: 0.0667 - accuracy: 0.9812 - val_loss: 0.0550 - val_accuracy: 0.9836\n",
            "Epoch 5/10\n",
            "469/469 [==============================] - 33s 71ms/step - loss: 0.0576 - accuracy: 0.9838 - val_loss: 0.0502 - val_accuracy: 0.9855\n",
            "Epoch 6/10\n",
            "469/469 [==============================] - 34s 71ms/step - loss: 0.0515 - accuracy: 0.9859 - val_loss: 0.0477 - val_accuracy: 0.9852\n",
            "Epoch 7/10\n",
            "469/469 [==============================] - 33s 71ms/step - loss: 0.0471 - accuracy: 0.9875 - val_loss: 0.0454 - val_accuracy: 0.9859\n",
            "Epoch 8/10\n",
            "469/469 [==============================] - 33s 71ms/step - loss: 0.0437 - accuracy: 0.9877 - val_loss: 0.0430 - val_accuracy: 0.9857\n",
            "Epoch 9/10\n",
            "469/469 [==============================] - 34s 72ms/step - loss: 0.0407 - accuracy: 0.9889 - val_loss: 0.0442 - val_accuracy: 0.9863\n",
            "Epoch 10/10\n",
            "469/469 [==============================] - 34s 72ms/step - loss: 0.0381 - accuracy: 0.9892 - val_loss: 0.0452 - val_accuracy: 0.9859\n"
          ]
        }
      ],
      "source": [
        "history = model.fit(x=x_train,\n",
        "                    y=y_train,\n",
        "                    epochs=10,\n",
        "                    batch_size=128,\n",
        "                    validation_data=(x_test, y_test),\n",
        "                    verbose=1)"
      ]
    },
    {
      "cell_type": "code",
      "execution_count": null,
      "metadata": {
        "colab": {
          "base_uri": "https://localhost:8080/"
        },
        "id": "HIumhNTv3_do",
        "outputId": "41473515-c7c0-43ff-ee44-181e46eb2085"
      },
      "outputs": [
        {
          "data": {
            "text/plain": [
              "[<tf.Variable 'batch_normalization/gamma:0' shape=(6,) dtype=float32, numpy=\n",
              " array([1.0560453, 1.0779752, 1.0046463, 1.015753 , 1.142336 , 1.0550739],\n",
              "       dtype=float32)>,\n",
              " <tf.Variable 'batch_normalization/beta:0' shape=(6,) dtype=float32, numpy=\n",
              " array([ 0.03248239, -0.08203508,  0.07423262, -0.05568083,  0.02353233,\n",
              "         0.02455975], dtype=float32)>,\n",
              " <tf.Variable 'batch_normalization/moving_mean:0' shape=(6,) dtype=float32, numpy=\n",
              " array([ 0.00118412,  0.10871238, -0.08806054,  0.00484424,  0.05034804,\n",
              "         0.01275118], dtype=float32)>,\n",
              " <tf.Variable 'batch_normalization/moving_variance:0' shape=(6,) dtype=float32, numpy=\n",
              " array([0.19484021, 0.30048573, 0.29607564, 0.13561028, 0.2406828 ,\n",
              "        0.21075614], dtype=float32)>]"
            ]
          },
          "execution_count": 24,
          "metadata": {},
          "output_type": "execute_result"
        }
      ],
      "source": [
        "batch_norm_l1 = model.get_layer('batch_normalization')\n",
        "batch_norm_l1.weights"
      ]
    },
    {
      "cell_type": "code",
      "execution_count": null,
      "metadata": {
        "colab": {
          "base_uri": "https://localhost:8080/"
        },
        "id": "T6OTPIOU3_aQ",
        "outputId": "4c0cde67-10a3-48bd-fa7f-dc1adf44d0e5"
      },
      "outputs": [
        {
          "data": {
            "text/plain": [
              "[<tf.Variable 'batch_normalization_1/gamma:0' shape=(16,) dtype=float32, numpy=\n",
              " array([1.0154141 , 1.0206652 , 0.9959987 , 1.0255624 , 1.0039716 ,\n",
              "        0.9835479 , 0.9973856 , 1.0560379 , 1.0133195 , 1.0040122 ,\n",
              "        1.0128295 , 1.0164115 , 1.0146271 , 0.9932651 , 1.067252  ,\n",
              "        0.99404204], dtype=float32)>,\n",
              " <tf.Variable 'batch_normalization_1/beta:0' shape=(16,) dtype=float32, numpy=\n",
              " array([-0.01015509,  0.00361948,  0.00950484,  0.00082473,  0.00168798,\n",
              "         0.00499556, -0.00138569, -0.0109141 , -0.00313955, -0.00059325,\n",
              "         0.00654764,  0.00133752,  0.00032018, -0.00699917,  0.00497124,\n",
              "        -0.00492224], dtype=float32)>,\n",
              " <tf.Variable 'batch_normalization_1/moving_mean:0' shape=(16,) dtype=float32, numpy=\n",
              " array([-0.23269762,  0.29403713, -0.00625822,  0.04751481,  0.18793678,\n",
              "        -0.09343266,  0.04269541, -0.1011469 ,  0.07165778, -0.15778133,\n",
              "         0.19265652, -0.22894229,  0.10259876, -0.02471054,  0.17262481,\n",
              "         0.13558921], dtype=float32)>,\n",
              " <tf.Variable 'batch_normalization_1/moving_variance:0' shape=(16,) dtype=float32, numpy=\n",
              " array([0.5138827 , 0.4038941 , 0.23997666, 0.3473665 , 0.45250705,\n",
              "        0.46114266, 0.44209188, 0.24495763, 0.1806303 , 0.43625942,\n",
              "        0.4727079 , 0.40781492, 0.40152448, 0.15251918, 0.371304  ,\n",
              "        0.37288067], dtype=float32)>]"
            ]
          },
          "execution_count": 25,
          "metadata": {},
          "output_type": "execute_result"
        }
      ],
      "source": [
        "batch_norm_l2 = model.get_layer('batch_normalization_1')\n",
        "batch_norm_l2.weights"
      ]
    },
    {
      "cell_type": "code",
      "execution_count": null,
      "metadata": {
        "colab": {
          "base_uri": "https://localhost:8080/"
        },
        "id": "UWHb3dQF3_Yz",
        "outputId": "706e215f-991a-41f6-97d4-d969b46a38ec"
      },
      "outputs": [
        {
          "data": {
            "text/plain": [
              "[<tf.Variable 'batch_normalization_2/gamma:0' shape=(120,) dtype=float32, numpy=\n",
              " array([1.0019869 , 0.99579227, 0.9915581 , 1.0201868 , 1.0079851 ,\n",
              "        0.99246895, 0.99359363, 0.99598134, 0.9982053 , 0.99771047,\n",
              "        0.9987553 , 1.005121  , 0.9935047 , 1.012914  , 1.0033188 ,\n",
              "        0.9918102 , 0.99559623, 1.0044333 , 1.0003539 , 0.9985013 ,\n",
              "        0.9960763 , 0.9936786 , 0.9898859 , 0.99715143, 1.0082195 ,\n",
              "        1.0169008 , 1.0017418 , 1.0107462 , 0.99275196, 0.99430406,\n",
              "        0.993697  , 1.0073277 , 0.9982665 , 1.0045042 , 1.0109204 ,\n",
              "        0.994431  , 1.0000876 , 1.0021915 , 1.0038592 , 1.0009176 ,\n",
              "        0.991624  , 1.012491  , 0.9972867 , 1.0001553 , 0.990791  ,\n",
              "        1.0059532 , 1.0029049 , 1.0108923 , 1.0035682 , 1.0065519 ,\n",
              "        0.99569976, 0.99251676, 1.0074351 , 0.99879295, 1.0063634 ,\n",
              "        1.0038422 , 1.0144497 , 1.0077864 , 1.022158  , 0.9999463 ,\n",
              "        1.0043062 , 1.018972  , 1.005085  , 0.99334365, 1.0058103 ,\n",
              "        0.9994266 , 0.9998701 , 0.99465746, 1.0052192 , 0.9984292 ,\n",
              "        1.0080194 , 1.0045782 , 1.0065067 , 0.99371547, 1.0075166 ,\n",
              "        1.0199405 , 0.996321  , 1.0096833 , 1.0112501 , 1.0027527 ,\n",
              "        1.0028867 , 0.9958408 , 1.0147955 , 1.0018426 , 0.9959789 ,\n",
              "        1.0023383 , 1.0031993 , 1.0062184 , 0.9913833 , 1.001877  ,\n",
              "        1.0089202 , 1.0036979 , 0.993325  , 1.0095204 , 1.0094423 ,\n",
              "        1.006473  , 1.007512  , 0.99129057, 1.0058227 , 1.0083618 ,\n",
              "        0.99468154, 1.0108645 , 1.0131644 , 0.9970641 , 1.0090181 ,\n",
              "        1.0158321 , 1.0100839 , 0.9945669 , 0.99964464, 0.99890465,\n",
              "        1.0052503 , 0.99211204, 1.0009288 , 0.99807787, 1.0015398 ,\n",
              "        1.0062883 , 1.0003232 , 1.0057393 , 0.9976625 , 1.0028635 ],\n",
              "       dtype=float32)>,\n",
              " <tf.Variable 'batch_normalization_2/beta:0' shape=(120,) dtype=float32, numpy=\n",
              " array([-6.84082974e-03,  4.25048918e-03, -7.72129605e-03, -7.58444378e-03,\n",
              "        -8.02244805e-03, -2.27146014e-03,  2.26440592e-04, -4.73124394e-03,\n",
              "        -2.42038793e-03,  9.45336092e-03,  3.47506930e-03,  2.93836580e-03,\n",
              "         1.60122532e-02,  3.67621658e-03, -2.98243319e-03, -6.13635452e-03,\n",
              "         5.38571738e-03, -2.30310299e-03, -3.30487103e-03, -3.38612380e-03,\n",
              "         3.80645390e-03, -3.43043287e-03,  3.66573944e-03,  1.09907463e-02,\n",
              "        -9.48656292e-04, -5.87937189e-03,  1.77353577e-04,  5.20668505e-03,\n",
              "        -4.30133287e-03, -9.43059858e-04, -4.78280149e-03, -3.14147095e-03,\n",
              "        -4.95050056e-03,  9.22983279e-04, -3.53112770e-03,  3.80768953e-03,\n",
              "         8.76374263e-03, -2.78582564e-04, -2.29226518e-03, -5.06661134e-04,\n",
              "         4.69321199e-03,  5.80043811e-03, -8.12036823e-03, -1.25360012e-03,\n",
              "         7.22471159e-03,  1.40399660e-03,  4.64607636e-03, -8.17911234e-03,\n",
              "         2.54333811e-03, -8.42466659e-04,  2.48465594e-03, -6.06489833e-04,\n",
              "        -2.74624256e-03,  1.14595273e-03, -1.41456519e-04,  2.56699556e-03,\n",
              "        -1.03558106e-02,  4.01938614e-03,  5.69030736e-03, -5.13964146e-03,\n",
              "         6.01949031e-03,  2.04980792e-03, -3.68229742e-03,  1.04499923e-03,\n",
              "         2.99648568e-03, -4.88329213e-03,  1.30747026e-02, -9.03651235e-05,\n",
              "        -9.42775421e-03, -1.83279067e-03,  1.18358366e-04, -5.68282325e-03,\n",
              "         4.04775841e-03, -3.68232816e-03, -3.90757713e-03, -8.15568492e-04,\n",
              "         1.72401452e-03, -3.86139844e-03,  1.54108834e-03, -8.59825779e-03,\n",
              "         5.52184880e-04, -4.01889021e-03, -3.06652603e-03, -3.31413699e-03,\n",
              "        -1.63006946e-03, -2.15116255e-02, -7.91667146e-04,  2.07768520e-03,\n",
              "         5.05238120e-03,  5.34751546e-03,  6.26046443e-03,  6.52399939e-03,\n",
              "        -1.43121695e-04,  1.84288563e-03, -5.55467140e-03,  5.76769467e-03,\n",
              "         4.01600497e-04, -8.21701810e-03, -1.33903157e-02,  7.45866634e-03,\n",
              "        -7.57625606e-03, -6.75713550e-03, -2.08308036e-03, -3.18293739e-03,\n",
              "         7.26617593e-03,  4.18599788e-03, -1.08383503e-03, -1.54797873e-03,\n",
              "        -7.22651021e-04,  7.11124577e-03, -2.46390305e-03, -8.80599115e-03,\n",
              "        -5.45536773e-03, -7.20091071e-03,  4.36140504e-03, -1.04833511e-03,\n",
              "         4.45109885e-03,  7.62205943e-03, -5.98141691e-03, -4.27251123e-03],\n",
              "       dtype=float32)>,\n",
              " <tf.Variable 'batch_normalization_2/moving_mean:0' shape=(120,) dtype=float32, numpy=\n",
              " array([-0.5395374 ,  0.12342595,  0.11332748, -0.3005684 , -0.13129371,\n",
              "         0.41683725,  0.23355083, -0.11209912,  0.31422582,  0.08928787,\n",
              "         0.03946495,  0.4937996 ,  0.24940643,  0.17472026,  0.49265927,\n",
              "         0.36940494, -0.03767554,  0.01973336,  0.14298497, -0.00337905,\n",
              "         0.12086796,  0.10578939,  0.07723015,  0.4542249 ,  0.11382181,\n",
              "         0.34948704, -0.31294328,  0.3263663 ,  0.06555545,  0.39146036,\n",
              "         0.07237089, -0.28103298, -0.27470046, -0.18213509,  0.29139128,\n",
              "        -0.21443522,  0.03080198,  0.11157153, -0.43675542,  0.32950848,\n",
              "        -0.06271669,  0.16283055, -0.06660172, -0.14697105,  0.279433  ,\n",
              "        -0.46180403, -0.069673  ,  0.00146524,  0.2375705 , -0.01023394,\n",
              "         0.23396231, -0.02054704, -0.24536765, -0.52362394, -0.29593092,\n",
              "         0.06856922,  0.13847663,  0.02077543, -0.23105147, -0.06722368,\n",
              "        -0.35753304,  0.16796763,  0.0819338 ,  0.4129805 ,  0.5447954 ,\n",
              "        -0.20435831,  0.41894734,  0.28475532,  0.60333484, -0.17873798,\n",
              "        -0.46767056, -0.22875352,  0.5129187 ,  0.00383562, -0.31404045,\n",
              "         0.09033135,  0.41411856,  0.4336017 ,  0.44564998, -0.27929512,\n",
              "        -0.16233277,  0.36286587, -0.29564655, -0.47626457,  0.43791965,\n",
              "        -0.38700372, -0.19518875,  0.03982235, -0.10623247, -0.3308035 ,\n",
              "         0.17067556, -0.17954913,  0.13825078, -0.19292852,  0.26691625,\n",
              "         0.34007615,  0.37662405,  0.11025512, -0.25500908,  0.0168464 ,\n",
              "         0.38060784,  0.47770047, -0.1882446 ,  0.41850743,  0.4512507 ,\n",
              "        -0.15084521,  0.29319078,  0.13994065,  0.08821708,  0.28961873,\n",
              "        -0.14066455,  0.17109363, -0.07835665, -0.32939968,  0.01645363,\n",
              "         0.36540705, -0.1797848 , -0.1124323 ,  0.40220863,  0.14321002],\n",
              "       dtype=float32)>,\n",
              " <tf.Variable 'batch_normalization_2/moving_variance:0' shape=(120,) dtype=float32, numpy=\n",
              " array([0.09591887, 0.10526387, 0.19897343, 0.10215006, 0.09251194,\n",
              "        0.09963125, 0.16780396, 0.19443625, 0.06130465, 0.0716199 ,\n",
              "        0.11598936, 0.0708894 , 0.11387971, 0.04630296, 0.06381065,\n",
              "        0.1005484 , 0.05039863, 0.08735792, 0.09854124, 0.06788574,\n",
              "        0.13004225, 0.12565129, 0.10650071, 0.0575696 , 0.03239469,\n",
              "        0.05328716, 0.07889699, 0.04747779, 0.16034135, 0.07972422,\n",
              "        0.09668872, 0.05227406, 0.08768005, 0.07713664, 0.06169087,\n",
              "        0.18512265, 0.09438663, 0.12431826, 0.15848191, 0.09424268,\n",
              "        0.1121401 , 0.03465461, 0.12422512, 0.12248402, 0.13768643,\n",
              "        0.10664204, 0.07304572, 0.04310766, 0.06080005, 0.15658139,\n",
              "        0.11601225, 0.13695303, 0.08282357, 0.0669079 , 0.06837218,\n",
              "        0.070576  , 0.04556416, 0.09572235, 0.07206408, 0.10578368,\n",
              "        0.05754993, 0.06696419, 0.08278482, 0.13744852, 0.10143862,\n",
              "        0.15944235, 0.12032114, 0.04521223, 0.08067984, 0.0345074 ,\n",
              "        0.05127285, 0.05896529, 0.05243212, 0.13339557, 0.10885274,\n",
              "        0.02620704, 0.12527113, 0.13808557, 0.07535601, 0.10928651,\n",
              "        0.07387491, 0.05619645, 0.05408005, 0.13183871, 0.13368358,\n",
              "        0.17920429, 0.13176619, 0.07806637, 0.16566588, 0.08812949,\n",
              "        0.11632027, 0.12203989, 0.13657498, 0.12360493, 0.20083472,\n",
              "        0.0843916 , 0.09891032, 0.14021535, 0.07048652, 0.09279986,\n",
              "        0.11035045, 0.07980358, 0.07061692, 0.08044767, 0.05133107,\n",
              "        0.05612912, 0.06073672, 0.10798369, 0.10445973, 0.07506874,\n",
              "        0.04216272, 0.11570797, 0.2381895 , 0.13117959, 0.12445911,\n",
              "        0.08755957, 0.14530845, 0.10880113, 0.08338392, 0.07653212],\n",
              "       dtype=float32)>]"
            ]
          },
          "execution_count": 26,
          "metadata": {},
          "output_type": "execute_result"
        }
      ],
      "source": [
        "batch_norm_l3 = model.get_layer('batch_normalization_2')\n",
        "batch_norm_l3.weights"
      ]
    },
    {
      "cell_type": "code",
      "execution_count": null,
      "metadata": {
        "colab": {
          "base_uri": "https://localhost:8080/"
        },
        "id": "b86LaNn53_TO",
        "outputId": "0bedf8b5-027a-4579-d2e7-b40683bfd291"
      },
      "outputs": [
        {
          "data": {
            "text/plain": [
              "[<tf.Variable 'batch_normalization_3/gamma:0' shape=(84,) dtype=float32, numpy=\n",
              " array([1.0372694, 1.033908 , 1.0211269, 1.0390221, 1.037313 , 1.0161393,\n",
              "        1.0524049, 1.0356426, 1.0227915, 1.0310552, 1.0071733, 1.0245806,\n",
              "        1.0282569, 1.021062 , 1.0206637, 1.0105206, 1.0380802, 1.0346464,\n",
              "        1.047053 , 1.0308285, 1.021063 , 1.0131184, 1.0441701, 1.0302362,\n",
              "        1.0291893, 1.0376724, 1.068871 , 1.0500433, 1.0539136, 1.0272485,\n",
              "        1.0340296, 1.053626 , 1.050125 , 1.0161079, 1.0298425, 1.0344325,\n",
              "        1.0452341, 1.0474734, 1.0198146, 1.0153855, 1.0461751, 1.0281782,\n",
              "        1.0273741, 1.0148848, 1.0285957, 1.0430534, 1.0497416, 1.0383787,\n",
              "        1.0401137, 1.0304587, 1.0220108, 1.0285913, 1.0647552, 1.0208987,\n",
              "        1.0201787, 1.0174698, 1.0476775, 1.0596384, 1.0344617, 1.0468402,\n",
              "        1.0402596, 1.0017605, 1.0351002, 1.0310895, 1.0413237, 1.0211645,\n",
              "        1.0407082, 1.0362277, 1.0251546, 1.035659 , 1.041009 , 1.0258497,\n",
              "        1.0089774, 1.0644033, 1.0364836, 1.0246878, 1.0393208, 1.0189382,\n",
              "        1.0429283, 1.0381027, 1.0387946, 1.0184468, 1.0338905, 1.0364012],\n",
              "       dtype=float32)>,\n",
              " <tf.Variable 'batch_normalization_3/beta:0' shape=(84,) dtype=float32, numpy=\n",
              " array([ 1.9025520e-03, -3.2380149e-03,  9.5972419e-03,  7.1345773e-03,\n",
              "         6.6043674e-03, -2.9357034e-03, -1.4834969e-02, -8.1261136e-03,\n",
              "         1.1015729e-03,  9.5757078e-03, -1.1834449e-03, -7.7442117e-03,\n",
              "         6.1272603e-04,  1.2803457e-02,  8.6939037e-03, -8.3677173e-03,\n",
              "        -8.2817422e-03,  5.4754722e-03,  2.1661203e-03, -8.4382463e-03,\n",
              "        -1.4283177e-03,  2.1184750e-03, -6.9150119e-03, -9.5049785e-03,\n",
              "        -5.8503458e-03,  2.5306479e-03,  1.7580425e-02, -2.9184122e-03,\n",
              "         1.0900568e-03,  2.9091502e-03,  5.3420458e-03, -9.9471863e-03,\n",
              "         7.0668561e-03,  8.0958176e-03, -1.0890645e-02, -6.8689841e-03,\n",
              "         1.2008469e-02,  3.9638439e-03, -5.1402221e-03, -1.1476828e-02,\n",
              "         9.2117377e-03, -1.6759131e-02,  1.3978616e-02, -5.9010796e-03,\n",
              "         1.1718116e-02, -1.8916927e-02,  1.1047390e-03,  1.3306868e-02,\n",
              "        -1.9863185e-03, -5.4564853e-03,  6.0519874e-03,  7.8590903e-03,\n",
              "        -3.8699043e-05,  2.2632472e-02,  8.2388325e-03,  1.2119084e-02,\n",
              "        -1.0275748e-02,  6.4493767e-03,  3.9899787e-03,  1.3732297e-02,\n",
              "         7.3055075e-05,  5.6227176e-03, -8.3587691e-03,  1.9894520e-02,\n",
              "         1.6592935e-02, -1.3185796e-02, -1.6603813e-02,  7.1672085e-03,\n",
              "         5.6265355e-03,  2.3229546e-03,  9.3901148e-03,  1.2706650e-02,\n",
              "        -1.2038506e-03, -1.0385376e-02, -1.4610935e-02, -6.7744870e-03,\n",
              "        -2.9968731e-03, -6.9209281e-03,  9.4363829e-03,  1.3091133e-02,\n",
              "         1.7987540e-03,  1.0084592e-02, -7.3981839e-03,  1.8411234e-02],\n",
              "       dtype=float32)>,\n",
              " <tf.Variable 'batch_normalization_3/moving_mean:0' shape=(84,) dtype=float32, numpy=\n",
              " array([ 0.00451253,  0.01624229, -0.02155482, -0.0202603 , -0.00688126,\n",
              "        -0.02930064,  0.02411753, -0.00548925, -0.01120175, -0.03482543,\n",
              "         0.01166476,  0.04352449, -0.0405476 , -0.01055587,  0.00340725,\n",
              "        -0.06389665,  0.0275753 , -0.01629709,  0.00725043, -0.03619821,\n",
              "        -0.00480783, -0.02544698, -0.01420665, -0.01247701,  0.02021151,\n",
              "         0.0090774 , -0.00895206, -0.01659779, -0.00212809, -0.00538433,\n",
              "         0.02464871,  0.01749582,  0.01367008, -0.01366233,  0.01146667,\n",
              "        -0.00659533, -0.00231837, -0.04113643, -0.0203141 ,  0.00882758,\n",
              "         0.03983401, -0.02588884, -0.00949928, -0.00543284, -0.00280486,\n",
              "         0.00172884, -0.00363005,  0.02960133,  0.03878484,  0.00176115,\n",
              "        -0.02612313, -0.01864303, -0.00461097,  0.02835411, -0.02056367,\n",
              "        -0.054709  , -0.0065044 , -0.00556537,  0.00619171,  0.00806383,\n",
              "        -0.00850437,  0.00724853,  0.01531126, -0.05886196,  0.03336751,\n",
              "         0.03485477,  0.00327032, -0.01250642,  0.0103821 , -0.00362053,\n",
              "        -0.00134056,  0.02749969,  0.03484426, -0.01852314, -0.00571575,\n",
              "         0.03619792, -0.02886018, -0.0209131 , -0.00639461,  0.01498029,\n",
              "        -0.00093289, -0.03716107,  0.00452004, -0.07786974], dtype=float32)>,\n",
              " <tf.Variable 'batch_normalization_3/moving_variance:0' shape=(84,) dtype=float32, numpy=\n",
              " array([0.32141042, 0.25036874, 0.50272983, 0.40088287, 0.35718527,\n",
              "        0.5238467 , 0.3590417 , 0.43685222, 0.3798708 , 0.42510378,\n",
              "        0.5298961 , 0.42100126, 0.37372762, 0.3769244 , 0.44701615,\n",
              "        0.48292637, 0.39560133, 0.48839337, 0.21132933, 0.46995273,\n",
              "        0.45121694, 0.56209147, 0.44532606, 0.5901273 , 0.3492938 ,\n",
              "        0.39096656, 0.39653614, 0.35942262, 0.39166763, 0.53673476,\n",
              "        0.54988384, 0.45696548, 0.38903716, 0.4580353 , 0.41979048,\n",
              "        0.43382487, 0.28851634, 0.48128682, 0.39248616, 0.45683807,\n",
              "        0.49462637, 0.4759966 , 0.4915347 , 0.40189418, 0.30073458,\n",
              "        0.23987524, 0.31108496, 0.38316178, 0.4317129 , 0.4713215 ,\n",
              "        0.42317146, 0.26023465, 0.29504058, 0.45827124, 0.49587235,\n",
              "        0.51713693, 0.34810033, 0.42193255, 0.4933001 , 0.377598  ,\n",
              "        0.48818302, 0.42913252, 0.46407205, 0.5929447 , 0.49069518,\n",
              "        0.47356525, 0.25638023, 0.37750185, 0.5743839 , 0.3175251 ,\n",
              "        0.2934435 , 0.52352554, 0.4415425 , 0.4497906 , 0.4929471 ,\n",
              "        0.39842167, 0.2656832 , 0.4532347 , 0.18244356, 0.4580997 ,\n",
              "        0.2980129 , 0.41676813, 0.53865623, 0.5828532 ], dtype=float32)>]"
            ]
          },
          "execution_count": 27,
          "metadata": {},
          "output_type": "execute_result"
        }
      ],
      "source": [
        "batch_norm_l4 = model.get_layer('batch_normalization_3')\n",
        "batch_norm_l4.weights"
      ]
    },
    {
      "cell_type": "markdown",
      "metadata": {
        "id": "3tQ7kuA33_N6"
      },
      "source": [
        "standard normalization of input and batch normalization for hidden layers\n",
        "loss: 0.0381 - accuracy: 0.9892 - val_loss: 0.0452 - val_accuracy: 0.9859"
      ]
    },
    {
      "cell_type": "code",
      "execution_count": null,
      "metadata": {
        "id": "Qbr8mo0H3_Jy"
      },
      "outputs": [],
      "source": [
        ""
      ]
    },
    {
      "cell_type": "code",
      "execution_count": null,
      "metadata": {
        "id": "mQh0mJxk3_AO"
      },
      "outputs": [],
      "source": [
        ""
      ]
    },
    {
      "cell_type": "markdown",
      "metadata": {
        "id": "1OO6lj9Ss2V0"
      },
      "source": [
        "## 3)\n",
        "Next instead of standard normalization use batch normalization for the input layer also and train the network. Plot the distribution of learned batch norm parameters for each layer (including input) using violin plots. Compare the train/test accuracy and loss for the two cases? Did batch normalization for the input layer improve performance? (4)"
      ]
    },
    {
      "cell_type": "code",
      "execution_count": null,
      "metadata": {
        "colab": {
          "base_uri": "https://localhost:8080/"
        },
        "id": "QoR5PtbPCL4o",
        "outputId": "22276ba9-3862-4260-f3b9-0c191d731779"
      },
      "outputs": [
        {
          "name": "stdout",
          "output_type": "stream",
          "text": [
            "training: ((60000, 28, 28, 1), (60000, 10))\n",
            "testing: ((10000, 28, 28, 1), (10000, 10))\n"
          ]
        }
      ],
      "source": [
        "import tensorflow as tf\n",
        "from tensorflow.keras.models import Sequential\n",
        "from tensorflow.keras.datasets import mnist\n",
        "from tensorflow.keras import layers, Model\n",
        "from tensorflow.keras.utils import to_categorical\n",
        "\n",
        "# Load dataset as train and test sets\n",
        "from tensorflow.keras.datasets import mnist\n",
        "(x_train, y_train), (x_test, y_test) = mnist.load_data()\n",
        "\n",
        "# Set numeric type to float32 from uint8\n",
        "x_train = x_train.astype('float32')\n",
        "x_test = x_test.astype('float32')\n",
        "\n",
        "# Normalize value to [0, 1]\n",
        "x_train /= 255\n",
        "x_test /= 255\n",
        "\n",
        "# Transform lables to one-hot encoding\n",
        "y_train = to_categorical(y_train, 10)\n",
        "y_test = to_categorical(y_test, 10)\n",
        "\n",
        "# Reshape the dataset into 4D array\n",
        "x_train = x_train.reshape(x_train.shape[0], 28, 28, 1)\n",
        "x_test = x_test.reshape(x_test.shape[0], 28, 28, 1)\n",
        "\n",
        "print(f\"training: {x_train.shape, y_train.shape}\")\n",
        "print(f\"testing: {x_test.shape, y_test.shape}\")"
      ]
    },
    {
      "cell_type": "code",
      "execution_count": null,
      "metadata": {
        "id": "itP0BZ5JLIXb"
      },
      "outputs": [],
      "source": [
        "def create_model(model_name):\n",
        "  \"\"\" Function to create the model \"\"\"\n",
        "\n",
        "  # Input layer of shape 28x28x1\n",
        "  inputs = layers.Input(shape=(28, 28, 1), dtype='float32')\n",
        "\n",
        "  #  batch normalization for the input\n",
        "  x = layers.BatchNormalization()(inputs)\n",
        "\n",
        "  # First convolution block\n",
        "  x = layers.Conv2D(filters=6,\n",
        "                    kernel_size=(5, 5),\n",
        "                    strides=(1, 1),\n",
        "                    activation='tanh',\n",
        "                    padding='same')(x)\n",
        "  x = layers.BatchNormalization()(x)\n",
        "  x = layers.AveragePooling2D(pool_size=(2, 2),\n",
        "                              strides=(2, 2),\n",
        "                              padding='valid')(x)\n",
        "  \n",
        "  # Second convolution block\n",
        "  x = layers.Conv2D(filters=16,\n",
        "                    kernel_size=(5, 5),\n",
        "                    strides=(1, 1),\n",
        "                    activation='tanh',\n",
        "                    padding='valid')(x)\n",
        "  x = layers.BatchNormalization()(x)\n",
        "  x = layers.AveragePooling2D(pool_size=(2, 2),\n",
        "                              strides=(2, 2),\n",
        "                              padding='valid')(x)\n",
        "  \n",
        "  # Fully connected convolution layer\n",
        "  x = layers.Conv2D(filters=120,\n",
        "                    kernel_size=(5, 5),\n",
        "                    strides=(1, 1),\n",
        "                    activation='tanh',\n",
        "                    padding='valid')(x)\n",
        "  x = layers.BatchNormalization()(x)\n",
        "\n",
        "  # Flatten and create dense layer\n",
        "  x = layers.Flatten()(x)\n",
        "  x = layers.Dense(84, activation='tanh')(x)\n",
        "  x = layers.BatchNormalization()(x)\n",
        "  \n",
        "  # Output layer with softmax probability activation\n",
        "  outputs = layers.Dense(10, activation='softmax')(x)\n",
        "\n",
        "  # Create the model and return\n",
        "  model = Model(inputs=inputs, outputs=outputs, name=model_name)\n",
        "  return model\n"
      ]
    },
    {
      "cell_type": "code",
      "execution_count": null,
      "metadata": {
        "colab": {
          "base_uri": "https://localhost:8080/"
        },
        "id": "Vk451BroLIR6",
        "outputId": "670a2d8e-9cc8-4994-88e6-ffce5da22621"
      },
      "outputs": [
        {
          "name": "stdout",
          "output_type": "stream",
          "text": [
            "Model: \"lenet5_q3\"\n",
            "_________________________________________________________________\n",
            " Layer (type)                Output Shape              Param #   \n",
            "=================================================================\n",
            " input_2 (InputLayer)        [(None, 28, 28, 1)]       0         \n",
            "                                                                 \n",
            " batch_normalization_4 (Batc  (None, 28, 28, 1)        4         \n",
            " hNormalization)                                                 \n",
            "                                                                 \n",
            " conv2d_3 (Conv2D)           (None, 28, 28, 6)         156       \n",
            "                                                                 \n",
            " batch_normalization_5 (Batc  (None, 28, 28, 6)        24        \n",
            " hNormalization)                                                 \n",
            "                                                                 \n",
            " average_pooling2d_2 (Averag  (None, 14, 14, 6)        0         \n",
            " ePooling2D)                                                     \n",
            "                                                                 \n",
            " conv2d_4 (Conv2D)           (None, 10, 10, 16)        2416      \n",
            "                                                                 \n",
            " batch_normalization_6 (Batc  (None, 10, 10, 16)       64        \n",
            " hNormalization)                                                 \n",
            "                                                                 \n",
            " average_pooling2d_3 (Averag  (None, 5, 5, 16)         0         \n",
            " ePooling2D)                                                     \n",
            "                                                                 \n",
            " conv2d_5 (Conv2D)           (None, 1, 1, 120)         48120     \n",
            "                                                                 \n",
            " batch_normalization_7 (Batc  (None, 1, 1, 120)        480       \n",
            " hNormalization)                                                 \n",
            "                                                                 \n",
            " flatten_1 (Flatten)         (None, 120)               0         \n",
            "                                                                 \n",
            " dense_107 (Dense)           (None, 84)                10164     \n",
            "                                                                 \n",
            " batch_normalization_8 (Batc  (None, 84)               336       \n",
            " hNormalization)                                                 \n",
            "                                                                 \n",
            " dense_108 (Dense)           (None, 10)                850       \n",
            "                                                                 \n",
            "=================================================================\n",
            "Total params: 62,614\n",
            "Trainable params: 62,160\n",
            "Non-trainable params: 454\n",
            "_________________________________________________________________\n"
          ]
        }
      ],
      "source": [
        "model = create_model(model_name='lenet5_q3')\n",
        "model.compile(loss=tf.keras.losses.categorical_crossentropy,\n",
        "              optimizer='SGD',\n",
        "              metrics=['accuracy'])\n",
        "\n",
        "\n",
        "model.summary()"
      ]
    },
    {
      "cell_type": "code",
      "execution_count": null,
      "metadata": {
        "colab": {
          "base_uri": "https://localhost:8080/"
        },
        "id": "uxAqkwQVLIOl",
        "outputId": "588b9f40-1ffc-4ce6-a5a9-180dc38461f9"
      },
      "outputs": [
        {
          "name": "stdout",
          "output_type": "stream",
          "text": [
            "Epoch 1/10\n",
            "469/469 [==============================] - 39s 81ms/step - loss: 0.2563 - accuracy: 0.9294 - val_loss: 0.1295 - val_accuracy: 0.9648\n",
            "Epoch 2/10\n",
            "469/469 [==============================] - 38s 80ms/step - loss: 0.1055 - accuracy: 0.9714 - val_loss: 0.0773 - val_accuracy: 0.9784\n",
            "Epoch 3/10\n",
            "469/469 [==============================] - 37s 80ms/step - loss: 0.0787 - accuracy: 0.9783 - val_loss: 0.0676 - val_accuracy: 0.9801\n",
            "Epoch 4/10\n",
            "469/469 [==============================] - 37s 80ms/step - loss: 0.0650 - accuracy: 0.9819 - val_loss: 0.0536 - val_accuracy: 0.9852\n",
            "Epoch 5/10\n",
            "469/469 [==============================] - 38s 80ms/step - loss: 0.0569 - accuracy: 0.9841 - val_loss: 0.0488 - val_accuracy: 0.9850\n",
            "Epoch 6/10\n",
            "469/469 [==============================] - 37s 80ms/step - loss: 0.0513 - accuracy: 0.9857 - val_loss: 0.0479 - val_accuracy: 0.9853\n",
            "Epoch 7/10\n",
            "469/469 [==============================] - 38s 80ms/step - loss: 0.0468 - accuracy: 0.9867 - val_loss: 0.0432 - val_accuracy: 0.9871\n",
            "Epoch 8/10\n",
            "469/469 [==============================] - 38s 80ms/step - loss: 0.0426 - accuracy: 0.9880 - val_loss: 0.0397 - val_accuracy: 0.9881\n",
            "Epoch 9/10\n",
            "469/469 [==============================] - 37s 80ms/step - loss: 0.0398 - accuracy: 0.9888 - val_loss: 0.0370 - val_accuracy: 0.9893\n",
            "Epoch 10/10\n",
            "469/469 [==============================] - 37s 80ms/step - loss: 0.0362 - accuracy: 0.9898 - val_loss: 0.0416 - val_accuracy: 0.9868\n"
          ]
        }
      ],
      "source": [
        "history = model.fit(x=x_train,\n",
        "                    y=y_train,\n",
        "                    epochs=10,\n",
        "                    batch_size=128,\n",
        "                    validation_data=(x_test, y_test),\n",
        "                    verbose=1)"
      ]
    },
    {
      "cell_type": "code",
      "execution_count": null,
      "metadata": {
        "colab": {
          "base_uri": "https://localhost:8080/",
          "height": 206
        },
        "id": "oynZIhzlLILx",
        "outputId": "dd46b986-a6e3-42e0-c471-58cd6a97c938"
      },
      "outputs": [
        {
          "data": {
            "text/html": [
              "<div>\n",
              "<style scoped>\n",
              "    .dataframe tbody tr th:only-of-type {\n",
              "        vertical-align: middle;\n",
              "    }\n",
              "\n",
              "    .dataframe tbody tr th {\n",
              "        vertical-align: top;\n",
              "    }\n",
              "\n",
              "    .dataframe thead th {\n",
              "        text-align: right;\n",
              "    }\n",
              "</style>\n",
              "<table border=\"1\" class=\"dataframe\">\n",
              "  <thead>\n",
              "    <tr style=\"text-align: right;\">\n",
              "      <th></th>\n",
              "      <th>layer</th>\n",
              "      <th>parameter</th>\n",
              "      <th>value</th>\n",
              "    </tr>\n",
              "  </thead>\n",
              "  <tbody>\n",
              "    <tr>\n",
              "      <th>0</th>\n",
              "      <td>input</td>\n",
              "      <td>mean</td>\n",
              "      <td>0.131065</td>\n",
              "    </tr>\n",
              "    <tr>\n",
              "      <th>1</th>\n",
              "      <td>input</td>\n",
              "      <td>var</td>\n",
              "      <td>0.095169</td>\n",
              "    </tr>\n",
              "    <tr>\n",
              "      <th>2</th>\n",
              "      <td>block1</td>\n",
              "      <td>mean</td>\n",
              "      <td>-0.088074</td>\n",
              "    </tr>\n",
              "    <tr>\n",
              "      <th>3</th>\n",
              "      <td>block1</td>\n",
              "      <td>mean</td>\n",
              "      <td>0.150694</td>\n",
              "    </tr>\n",
              "    <tr>\n",
              "      <th>4</th>\n",
              "      <td>block1</td>\n",
              "      <td>mean</td>\n",
              "      <td>-0.016176</td>\n",
              "    </tr>\n",
              "  </tbody>\n",
              "</table>\n",
              "</div>"
            ],
            "text/plain": [
              "    layer parameter     value\n",
              "0   input      mean  0.131065\n",
              "1   input       var  0.095169\n",
              "2  block1      mean -0.088074\n",
              "3  block1      mean  0.150694\n",
              "4  block1      mean -0.016176"
            ]
          },
          "execution_count": 32,
          "metadata": {},
          "output_type": "execute_result"
        }
      ],
      "source": [
        "# get layers\n",
        "import pandas as pd\n",
        "import numpy as np\n",
        "import matplotlib.pyplot as plt\n",
        "import seaborn as sns\n",
        "\n",
        "batch_norm_inputs = model.get_layer('batch_normalization_4')\n",
        "batch_norm_l1 = model.get_layer('batch_normalization_5')\n",
        "batch_norm_l2 = model.get_layer('batch_normalization_6')\n",
        "batch_norm_l3 = model.get_layer('batch_normalization_7')\n",
        "batch_norm_l4 = model.get_layer('batch_normalization_8')\n",
        "\n",
        "\n",
        "# get weights\n",
        "inputs_mean = batch_norm_inputs.get_weights()[2]\n",
        "inputs_var = batch_norm_inputs.get_weights()[3]\n",
        "l1_mean = batch_norm_l1.get_weights()[2]\n",
        "l1_var = batch_norm_l1.get_weights()[3]\n",
        "l2_mean = batch_norm_l2.get_weights()[2]\n",
        "l2_var = batch_norm_l2.get_weights()[3]\n",
        "l3_mean = batch_norm_l3.get_weights()[2]\n",
        "l3_var = batch_norm_l3.get_weights()[3]\n",
        "l4_mean = batch_norm_l4.get_weights()[2]\n",
        "l4_var = batch_norm_l4.get_weights()[3]\n",
        "\n",
        "# create plot structure\n",
        "df = pd.DataFrame(data={\n",
        "    'layer': ['input']*2 + ['block1'] * 12 + ['block2'] * 32 + ['block3'] * 240 + ['dense'] * 168,\n",
        "    'parameter': ['mean', 'var'] + ['mean'] * 6 + ['var'] * 6 + ['mean'] * 16 + ['var'] * 16 + ['mean'] * 120 + ['var'] * 120 + ['mean'] * 84 + ['var'] * 84,\n",
        "    'value': np.concatenate((inputs_mean, inputs_var, l1_mean, l1_var, l2_mean, l2_var, l3_mean, l3_var, l4_mean, l4_var))})\n",
        "\n",
        "df.head()"
      ]
    },
    {
      "cell_type": "code",
      "execution_count": null,
      "metadata": {
        "colab": {
          "base_uri": "https://localhost:8080/",
          "height": 422
        },
        "id": "oDddVDQ9LIIQ",
        "outputId": "429a9ef6-f54d-4430-cfc6-4df30996c7e4"
      },
      "outputs": [
        {
          "data": {
            "text/plain": [
              "Text(0.5, 1.0, 'Batch Normalization Parameters by Layer')"
            ]
          },
          "execution_count": 33,
          "metadata": {},
          "output_type": "execute_result"
        },
        {
          "data": {
            "image/png": "[encoded data removed]",
            "text/plain": [
              "<Figure size 648x432 with 1 Axes>"
            ]
          },
          "metadata": {
            "needs_background": "light"
          },
          "output_type": "display_data"
        }
      ],
      "source": [
        "fig, ax = plt.subplots(figsize=(9, 6))\n",
        "sns.violinplot(x='layer', y='value', hue='parameter', data=df)\n",
        "ax.set_title('Batch Normalization Parameters by Layer')"
      ]
    },
    {
      "cell_type": "markdown",
      "metadata": {
        "id": "if2fA-TgLIER"
      },
      "source": [
        "Compare:\n",
        "\n",
        "\n",
        "Standard  Normaliazation(input) and Batch normalization:\\\n",
        "accuracy :0.9892, val_accuracy 0.9859\n",
        "\n",
        "Batch normalization(input) and Batch normalization:\\\n",
        "accuracy :0.9898, val_accuracy: 0.9868"
      ]
    },
    {
      "cell_type": "code",
      "execution_count": null,
      "metadata": {
        "id": "dzBG_mpjLHwH"
      },
      "outputs": [],
      "source": [
        ""
      ]
    },
    {
      "cell_type": "markdown",
      "metadata": {
        "id": "i_gZsEqHs26m"
      },
      "source": [
        "## 4)\n",
        "Train the network without batch normalization but this time use dropout. For hidden layers use a dropout probability of 0.5 and for input, layer take it to be 0.2 Compare test accuracy using dropout to test accuracy obtained using batch normalization in parts 2 and 3."
      ]
    },
    {
      "cell_type": "code",
      "execution_count": null,
      "metadata": {
        "id": "pRVpsrYyNOVX",
        "outputId": "7b48ec37-5e96-4c97-d857-302c4b1f93df"
      },
      "outputs": [
        {
          "name": "stdout",
          "output_type": "stream",
          "text": [
            "training: ((60000, 28, 28, 1), (60000, 10))\n",
            "testing: ((10000, 28, 28, 1), (10000, 10))\n"
          ]
        }
      ],
      "source": [
        "import tensorflow as tf\n",
        "from tensorflow.keras.models import Sequential\n",
        "from tensorflow.keras.datasets import mnist\n",
        "from tensorflow.keras import layers, Model\n",
        "from tensorflow.keras.utils import to_categorical\n",
        "\n",
        "# Load dataset as train and test sets\n",
        "from tensorflow.keras.datasets import mnist\n",
        "(x_train, y_train), (x_test, y_test) = mnist.load_data()\n",
        "\n",
        "# Set numeric type to float32 from uint8\n",
        "x_train = x_train.astype('float32')\n",
        "x_test = x_test.astype('float32')\n",
        "\n",
        "# Normalize value to [0, 1]\n",
        "x_train /= 255\n",
        "x_test /= 255\n",
        "\n",
        "# Transform lables to one-hot encoding\n",
        "y_train = to_categorical(y_train, 10)\n",
        "y_test = to_categorical(y_test, 10)\n",
        "\n",
        "# Reshape the dataset into 4D array\n",
        "x_train = x_train.reshape(x_train.shape[0], 28, 28, 1)\n",
        "x_test = x_test.reshape(x_test.shape[0], 28, 28, 1)\n",
        "\n",
        "print(f\"training: {x_train.shape, y_train.shape}\")\n",
        "print(f\"testing: {x_test.shape, y_test.shape}\")"
      ]
    },
    {
      "cell_type": "code",
      "execution_count": null,
      "metadata": {
        "id": "0H6zS21DNsa8"
      },
      "outputs": [],
      "source": [
        "def create_model(model_name):\n",
        "  \"\"\" Function to create the model \"\"\"\n",
        "\n",
        "  # Input layer of shape 28x28x1\n",
        "  inputs = layers.Input(shape=(28, 28, 1), dtype='float32')\n",
        "\n",
        "  # Add dropout for the input\n",
        "  x = layers.Dropout(0.2)(inputs)\n",
        "\n",
        "  # First convolution block\n",
        "  x = layers.Conv2D(filters=6,\n",
        "                    kernel_size=(5, 5),\n",
        "                    strides=(1, 1),\n",
        "                    activation='tanh',\n",
        "                    padding='same')(x)\n",
        "  x = layers.Dropout(0.5)(x)\n",
        "  x = layers.AveragePooling2D(pool_size=(2, 2),\n",
        "                              strides=(2, 2),\n",
        "                              padding='valid')(x)\n",
        "\n",
        "  # Second convolution block\n",
        "  x = layers.Conv2D(filters=16,\n",
        "                    kernel_size=(5, 5),\n",
        "                    strides=(1, 1),\n",
        "                    activation='tanh',\n",
        "                    padding='valid')(x)\n",
        "  x = layers.Dropout(0.5)(x)\n",
        "  x = layers.AveragePooling2D(pool_size=(2, 2),\n",
        "                              strides=(2, 2),\n",
        "                              padding='valid')(x)\n",
        "\n",
        "  # Fully connected convolution layer\n",
        "  x = layers.Conv2D(filters=120,\n",
        "                    kernel_size=(5, 5),\n",
        "                    strides=(1, 1),\n",
        "                    activation='tanh',\n",
        "                    padding='valid')(x)\n",
        "  x = layers.Dropout(0.5)(x)\n",
        "\n",
        "  # Flatten and create dense layer\n",
        "  x = layers.Flatten()(x)\n",
        "  x = layers.Dense(84, activation='tanh')(x)\n",
        "  x = layers.Dropout(0.5)(x)\n",
        "  \n",
        "  # Output layer with softmax probability activation\n",
        "  outputs = layers.Dense(10, activation='softmax')(x)\n",
        "\n",
        "  # Create the model and return\n",
        "  model = Model(inputs=inputs, outputs=outputs, name=model_name)\n",
        "  return model"
      ]
    },
    {
      "cell_type": "code",
      "execution_count": null,
      "metadata": {
        "colab": {
          "base_uri": "https://localhost:8080/"
        },
        "id": "kLokTuabNsYJ",
        "outputId": "c59f50fa-0127-409e-832a-45576ecae4cf"
      },
      "outputs": [
        {
          "name": "stdout",
          "output_type": "stream",
          "text": [
            "Model: \"lenet5_q4\"\n",
            "_________________________________________________________________\n",
            " Layer (type)                Output Shape              Param #   \n",
            "=================================================================\n",
            " input_3 (InputLayer)        [(None, 28, 28, 1)]       0         \n",
            "                                                                 \n",
            " dropout (Dropout)           (None, 28, 28, 1)         0         \n",
            "                                                                 \n",
            " conv2d_6 (Conv2D)           (None, 28, 28, 6)         156       \n",
            "                                                                 \n",
            " dropout_1 (Dropout)         (None, 28, 28, 6)         0         \n",
            "                                                                 \n",
            " average_pooling2d_4 (Averag  (None, 14, 14, 6)        0         \n",
            " ePooling2D)                                                     \n",
            "                                                                 \n",
            " conv2d_7 (Conv2D)           (None, 10, 10, 16)        2416      \n",
            "                                                                 \n",
            " dropout_2 (Dropout)         (None, 10, 10, 16)        0         \n",
            "                                                                 \n",
            " average_pooling2d_5 (Averag  (None, 5, 5, 16)         0         \n",
            " ePooling2D)                                                     \n",
            "                                                                 \n",
            " conv2d_8 (Conv2D)           (None, 1, 1, 120)         48120     \n",
            "                                                                 \n",
            " dropout_3 (Dropout)         (None, 1, 1, 120)         0         \n",
            "                                                                 \n",
            " flatten_2 (Flatten)         (None, 120)               0         \n",
            "                                                                 \n",
            " dense_109 (Dense)           (None, 84)                10164     \n",
            "                                                                 \n",
            " dropout_4 (Dropout)         (None, 84)                0         \n",
            "                                                                 \n",
            " dense_110 (Dense)           (None, 10)                850       \n",
            "                                                                 \n",
            "=================================================================\n",
            "Total params: 61,706\n",
            "Trainable params: 61,706\n",
            "Non-trainable params: 0\n",
            "_________________________________________________________________\n"
          ]
        }
      ],
      "source": [
        "model = create_model(model_name='lenet5_q4')\n",
        "model.compile(loss=tf.keras.losses.categorical_crossentropy,\n",
        "              optimizer='SGD',\n",
        "              metrics=['accuracy'])\n",
        "model.summary()"
      ]
    },
    {
      "cell_type": "code",
      "execution_count": null,
      "metadata": {
        "colab": {
          "base_uri": "https://localhost:8080/"
        },
        "id": "qPWLVCN2NsTi",
        "outputId": "8e1d9b77-2c79-4488-90ad-0f57dce7c49c"
      },
      "outputs": [
        {
          "name": "stdout",
          "output_type": "stream",
          "text": [
            "Epoch 1/10\n",
            "469/469 [==============================] - 29s 61ms/step - loss: 1.5724 - accuracy: 0.5042 - val_loss: 0.6605 - val_accuracy: 0.8394\n",
            "Epoch 2/10\n",
            "469/469 [==============================] - 29s 62ms/step - loss: 0.7918 - accuracy: 0.7531 - val_loss: 0.4227 - val_accuracy: 0.8852\n",
            "Epoch 3/10\n",
            "469/469 [==============================] - 29s 62ms/step - loss: 0.6528 - accuracy: 0.7951 - val_loss: 0.3587 - val_accuracy: 0.8988\n",
            "Epoch 4/10\n",
            "469/469 [==============================] - 29s 61ms/step - loss: 0.5928 - accuracy: 0.8150 - val_loss: 0.3256 - val_accuracy: 0.9056\n",
            "Epoch 5/10\n",
            "469/469 [==============================] - 29s 61ms/step - loss: 0.5549 - accuracy: 0.8263 - val_loss: 0.3031 - val_accuracy: 0.9097\n",
            "Epoch 6/10\n",
            "469/469 [==============================] - 29s 61ms/step - loss: 0.5211 - accuracy: 0.8381 - val_loss: 0.2841 - val_accuracy: 0.9152\n",
            "Epoch 7/10\n",
            "469/469 [==============================] - 29s 61ms/step - loss: 0.4994 - accuracy: 0.8465 - val_loss: 0.2663 - val_accuracy: 0.9205\n",
            "Epoch 8/10\n",
            "469/469 [==============================] - 29s 61ms/step - loss: 0.4756 - accuracy: 0.8533 - val_loss: 0.2506 - val_accuracy: 0.9244\n",
            "Epoch 9/10\n",
            "469/469 [==============================] - 29s 62ms/step - loss: 0.4556 - accuracy: 0.8620 - val_loss: 0.2378 - val_accuracy: 0.9271\n",
            "Epoch 10/10\n",
            "469/469 [==============================] - 27s 58ms/step - loss: 0.4353 - accuracy: 0.8662 - val_loss: 0.2236 - val_accuracy: 0.9317\n"
          ]
        }
      ],
      "source": [
        "history = model.fit(x=x_train,\n",
        "                    y=y_train,\n",
        "                    epochs=10,\n",
        "                    batch_size=128,\n",
        "                    validation_data=(x_test, y_test),\n",
        "                    verbose=1)"
      ]
    },
    {
      "cell_type": "markdown",
      "metadata": {
        "id": "Nj-7bf0xNsRF"
      },
      "source": [
        "Compare:\n",
        "\n",
        "\n",
        "\n",
        "Standard  Normaliazation(input) and Batch normalization:\\\n",
        "accuracy :0.9892, val_accuracy 0.9859\n",
        "\n",
        "Batch normalization(input) and Batch normalization:\\\n",
        "accuracy :0.9898, val_accuracy: 0.9868\n",
        "\n",
        "No normalization(input), No Batch normalization, but with Dropout:\\\n",
        "accuracy :0.8662, val_accuracy: 0.9317"
      ]
    },
    {
      "cell_type": "code",
      "execution_count": null,
      "metadata": {
        "id": "id3jHxfoNsNk"
      },
      "outputs": [],
      "source": [
        ""
      ]
    },
    {
      "cell_type": "code",
      "execution_count": null,
      "metadata": {
        "id": "PQXd9Q0FNsDk"
      },
      "outputs": [],
      "source": [
        ""
      ]
    },
    {
      "cell_type": "markdown",
      "metadata": {
        "id": "_2OnnFNIs3uR"
      },
      "source": [
        "## 5)\n",
        "Now train the network using both batch normalization and dropout. How does the performance (test accuracy) of the network compare with the cases with dropout alone and with batch normalization alone? (4)"
      ]
    },
    {
      "cell_type": "code",
      "execution_count": null,
      "metadata": {
        "id": "UsViDFnqNQNU",
        "outputId": "db529dd1-e8d2-4a5a-b4d6-8e9b7141d1c3"
      },
      "outputs": [
        {
          "name": "stdout",
          "output_type": "stream",
          "text": [
            "training: ((60000, 28, 28, 1), (60000, 10))\n",
            "testing: ((10000, 28, 28, 1), (10000, 10))\n"
          ]
        }
      ],
      "source": [
        "import tensorflow as tf\n",
        "from tensorflow.keras.models import Sequential\n",
        "from tensorflow.keras.datasets import mnist\n",
        "from tensorflow.keras import layers, Model\n",
        "from tensorflow.keras.utils import to_categorical\n",
        "\n",
        "# Load dataset as train and test sets\n",
        "from tensorflow.keras.datasets import mnist\n",
        "(x_train, y_train), (x_test, y_test) = mnist.load_data()\n",
        "\n",
        "# Set numeric type to float32 from uint8\n",
        "x_train = x_train.astype('float32')\n",
        "x_test = x_test.astype('float32')\n",
        "\n",
        "# Normalize value to [0, 1]\n",
        "x_train /= 255\n",
        "x_test /= 255\n",
        "\n",
        "# Transform lables to one-hot encoding\n",
        "y_train = to_categorical(y_train, 10)\n",
        "y_test = to_categorical(y_test, 10)\n",
        "\n",
        "# Reshape the dataset into 4D array\n",
        "x_train = x_train.reshape(x_train.shape[0], 28, 28, 1)\n",
        "x_test = x_test.reshape(x_test.shape[0], 28, 28, 1)\n",
        "\n",
        "print(f\"training: {x_train.shape, y_train.shape}\")\n",
        "print(f\"testing: {x_test.shape, y_test.shape}\")"
      ]
    },
    {
      "cell_type": "code",
      "execution_count": null,
      "metadata": {
        "id": "80L6ST79N1xn"
      },
      "outputs": [],
      "source": [
        "def create_model(model_name):\n",
        "  \"\"\" Function to create the model \"\"\"\n",
        "\n",
        "  # Input layer of shape 28x28x1\n",
        "  inputs = layers.Input(shape=(28, 28, 1), dtype='float32')\n",
        "\n",
        "  # Add dropout and batch normalization for the input\n",
        "  x = layers.Dropout(0.2)(inputs)\n",
        "  x = layers.BatchNormalization()(x)\n",
        "\n",
        "  # First convolution block\n",
        "  x = layers.Conv2D(filters=6,\n",
        "                    kernel_size=(5, 5),\n",
        "                    strides=(1, 1),\n",
        "                    activation='tanh',\n",
        "                    padding='same')(x)\n",
        "  x = layers.Dropout(0.5)(x)\n",
        "  x = layers.BatchNormalization()(x)\n",
        "  x = layers.AveragePooling2D(pool_size=(2, 2),\n",
        "                              strides=(2, 2),\n",
        "                              padding='valid')(x)\n",
        "\n",
        "  # Second convolution block\n",
        "  x = layers.Conv2D(filters=16,\n",
        "                    kernel_size=(5, 5),\n",
        "                    strides=(1, 1),\n",
        "                    activation='tanh',\n",
        "                    padding='valid')(x)\n",
        "  x = layers.Dropout(0.5)(x)\n",
        "  x = layers.BatchNormalization()(x)\n",
        "  x = layers.AveragePooling2D(pool_size=(2, 2),\n",
        "                              strides=(2, 2),\n",
        "                              padding='valid')(x)\n",
        "\n",
        "  # Fully connected convolution layer\n",
        "  x = layers.Conv2D(filters=120,\n",
        "                    kernel_size=(5, 5),\n",
        "                    strides=(1, 1),\n",
        "                    activation='tanh',\n",
        "                    padding='valid')(x)\n",
        "  x = layers.Dropout(0.5)(x)\n",
        "  x = layers.BatchNormalization()(x)\n",
        "\n",
        "  # Flatten and create dense layer\n",
        "  x = layers.Flatten()(x)\n",
        "  x = layers.Dense(84, activation='tanh')(x)\n",
        "  x = layers.Dropout(0.5)(x)\n",
        "  x = layers.BatchNormalization()(x)\n",
        "\n",
        "  # Output layer with softmax probability activation\n",
        "  outputs = layers.Dense(10, activation='softmax')(x)\n",
        "\n",
        "  # Create the model and return\n",
        "  model = Model(inputs=inputs, outputs=outputs, name=model_name)\n",
        "  return model"
      ]
    },
    {
      "cell_type": "code",
      "execution_count": null,
      "metadata": {
        "id": "83FVaaU_N1un",
        "outputId": "b886dffd-6f31-4a51-bb07-709129d7dadd"
      },
      "outputs": [
        {
          "name": "stdout",
          "output_type": "stream",
          "text": [
            "Model: \"lenet5_q4\"\n",
            "_________________________________________________________________\n",
            " Layer (type)                Output Shape              Param #   \n",
            "=================================================================\n",
            " input_4 (InputLayer)        [(None, 28, 28, 1)]       0         \n",
            "                                                                 \n",
            " dropout_5 (Dropout)         (None, 28, 28, 1)         0         \n",
            "                                                                 \n",
            " batch_normalization_9 (Batc  (None, 28, 28, 1)        4         \n",
            " hNormalization)                                                 \n",
            "                                                                 \n",
            " conv2d_9 (Conv2D)           (None, 28, 28, 6)         156       \n",
            "                                                                 \n",
            " dropout_6 (Dropout)         (None, 28, 28, 6)         0         \n",
            "                                                                 \n",
            " batch_normalization_10 (Bat  (None, 28, 28, 6)        24        \n",
            " chNormalization)                                                \n",
            "                                                                 \n",
            " average_pooling2d_6 (Averag  (None, 14, 14, 6)        0         \n",
            " ePooling2D)                                                     \n",
            "                                                                 \n",
            " conv2d_10 (Conv2D)          (None, 10, 10, 16)        2416      \n",
            "                                                                 \n",
            " dropout_7 (Dropout)         (None, 10, 10, 16)        0         \n",
            "                                                                 \n",
            " batch_normalization_11 (Bat  (None, 10, 10, 16)       64        \n",
            " chNormalization)                                                \n",
            "                                                                 \n",
            " average_pooling2d_7 (Averag  (None, 5, 5, 16)         0         \n",
            " ePooling2D)                                                     \n",
            "                                                                 \n",
            " conv2d_11 (Conv2D)          (None, 1, 1, 120)         48120     \n",
            "                                                                 \n",
            " dropout_8 (Dropout)         (None, 1, 1, 120)         0         \n",
            "                                                                 \n",
            " batch_normalization_12 (Bat  (None, 1, 1, 120)        480       \n",
            " chNormalization)                                                \n",
            "                                                                 \n",
            " flatten_3 (Flatten)         (None, 120)               0         \n",
            "                                                                 \n",
            " dense_111 (Dense)           (None, 84)                10164     \n",
            "                                                                 \n",
            " dropout_9 (Dropout)         (None, 84)                0         \n",
            "                                                                 \n",
            " batch_normalization_13 (Bat  (None, 84)               336       \n",
            " chNormalization)                                                \n",
            "                                                                 \n",
            " dense_112 (Dense)           (None, 10)                850       \n",
            "                                                                 \n",
            "=================================================================\n",
            "Total params: 62,614\n",
            "Trainable params: 62,160\n",
            "Non-trainable params: 454\n",
            "_________________________________________________________________\n"
          ]
        }
      ],
      "source": [
        "model = create_model(model_name='lenet5_q4')\n",
        "model.compile(loss=tf.keras.losses.categorical_crossentropy,\n",
        "              optimizer='SGD',\n",
        "              metrics=['accuracy'])\n",
        "model.summary()\n"
      ]
    },
    {
      "cell_type": "code",
      "execution_count": null,
      "metadata": {
        "id": "KUwtKbYeN1qv",
        "outputId": "7e9c9eee-d5e1-4fbf-fb76-449257e26ae9"
      },
      "outputs": [
        {
          "name": "stdout",
          "output_type": "stream",
          "text": [
            "Epoch 1/10\n",
            "469/469 [==============================] - 42s 89ms/step - loss: 1.0533 - accuracy: 0.6571 - val_loss: 0.3633 - val_accuracy: 0.8956\n",
            "Epoch 2/10\n",
            "469/469 [==============================] - 42s 90ms/step - loss: 0.6639 - accuracy: 0.7911 - val_loss: 0.2976 - val_accuracy: 0.9125\n",
            "Epoch 3/10\n",
            "469/469 [==============================] - 42s 89ms/step - loss: 0.5703 - accuracy: 0.8213 - val_loss: 0.2587 - val_accuracy: 0.9234\n",
            "Epoch 4/10\n",
            "469/469 [==============================] - 42s 89ms/step - loss: 0.5029 - accuracy: 0.8427 - val_loss: 0.2265 - val_accuracy: 0.9310\n",
            "Epoch 5/10\n",
            "469/469 [==============================] - 40s 86ms/step - loss: 0.4444 - accuracy: 0.8632 - val_loss: 0.1935 - val_accuracy: 0.9416\n",
            "Epoch 6/10\n",
            "469/469 [==============================] - 42s 89ms/step - loss: 0.4017 - accuracy: 0.8774 - val_loss: 0.1595 - val_accuracy: 0.9524\n",
            "Epoch 7/10\n",
            "469/469 [==============================] - 42s 90ms/step - loss: 0.3598 - accuracy: 0.8896 - val_loss: 0.1423 - val_accuracy: 0.9579\n",
            "Epoch 8/10\n",
            "469/469 [==============================] - 42s 89ms/step - loss: 0.3317 - accuracy: 0.8979 - val_loss: 0.1313 - val_accuracy: 0.9592\n",
            "Epoch 9/10\n",
            "469/469 [==============================] - 42s 89ms/step - loss: 0.3107 - accuracy: 0.9056 - val_loss: 0.1194 - val_accuracy: 0.9645\n",
            "Epoch 10/10\n",
            "469/469 [==============================] - 42s 89ms/step - loss: 0.2957 - accuracy: 0.9096 - val_loss: 0.1124 - val_accuracy: 0.9647\n"
          ]
        }
      ],
      "source": [
        "history = model.fit(x=x_train,\n",
        "                    y=y_train,\n",
        "                    epochs=10,\n",
        "                    batch_size=128,\n",
        "                    validation_data=(x_test, y_test),\n",
        "                    verbose=1)"
      ]
    },
    {
      "cell_type": "markdown",
      "metadata": {
        "id": "Jeb2eeYXN1Z8"
      },
      "source": [
        "\n",
        "\n",
        "\n",
        " Compare:\n",
        "\n",
        "\n",
        "\n",
        "Standard  Normaliazation(input) and Batch normalization:\\\n",
        "accuracy :0.9892, val_accuracy 0.9859\n",
        "\n",
        "Batch normalization(input) and Batch normalization:\\\n",
        "accuracy :0.9898, val_accuracy: 0.9868\n",
        "\n",
        "No normalization(input), No Batch normalization, but with Dropout:\\\n",
        "accuracy :0.8662, val_accuracy: 0.9317\n",
        "\n",
        "Batch normalization(input) and Batch normalization and Dropout:\\\n",
        "accuracy :0.9096, val_accuracy: 0.9647"
      ]
    },
    {
      "cell_type": "code",
      "execution_count": null,
      "metadata": {
        "id": "BTA4klt9N1RM"
      },
      "outputs": [],
      "source": [
        ""
      ]
    },
    {
      "cell_type": "markdown",
      "metadata": {
        "id": "EPMKZQt3o0t2"
      },
      "source": [
        "# Problem 3 - Learning Rate, Batch Size, FashionMNIST 15 points\n"
      ]
    },
    {
      "cell_type": "markdown",
      "metadata": {
        "id": "aqEWNWe8OAJb"
      },
      "source": [
        "## 1)\n",
        "Fix batch size to 64 and start with 10 candidate learning rates between 10−9 and 10 and train your model for 5 epochs. Plot the training loss as a function of the learning rate. "
      ]
    },
    {
      "cell_type": "code",
      "execution_count": null,
      "metadata": {
        "colab": {
          "base_uri": "https://localhost:8080/"
        },
        "id": "ZpKFYs7qOc-3",
        "outputId": "b09409fd-151b-42e2-84d0-d3bcd2f15d73"
      },
      "outputs": [
        {
          "name": "stdout",
          "output_type": "stream",
          "text": [
            "\n",
            " ----- \n",
            "\n",
            "Number of training records: 60000\n",
            "Number of test records: 10000\n",
            "Total number of records: 70000\n"
          ]
        }
      ],
      "source": [
        "from tensorflow.keras.datasets import fashion_mnist\n",
        "\n",
        "(train_images, train_labels), (test_images, test_labels) = fashion_mnist.load_data()\n",
        "\n",
        "print('\\n ----- \\n')\n",
        "print(f\"Number of training records: {len(train_images)}\")\n",
        "print(f\"Number of test records: {len(test_images)}\")\n",
        "print(f\"Total number of records: {len(train_images) + len(test_images)}\")"
      ]
    },
    {
      "cell_type": "code",
      "execution_count": null,
      "metadata": {
        "colab": {
          "base_uri": "https://localhost:8080/"
        },
        "id": "ooBv_ikrOcyX",
        "outputId": "6333f74c-4b3f-4de4-b67e-e8752e87540d"
      },
      "outputs": [
        {
          "name": "stdout",
          "output_type": "stream",
          "text": [
            "Number of unique classes: 10\n",
            "Number of images per class in the training dataset:\n"
          ]
        },
        {
          "data": {
            "text/plain": [
              "9    6000\n",
              "8    6000\n",
              "7    6000\n",
              "6    6000\n",
              "5    6000\n",
              "4    6000\n",
              "3    6000\n",
              "2    6000\n",
              "1    6000\n",
              "0    6000\n",
              "dtype: int64"
            ]
          },
          "execution_count": 6,
          "metadata": {},
          "output_type": "execute_result"
        }
      ],
      "source": [
        "import pandas as pd\n",
        "import matplotlib.pyplot as plt\n",
        "\n",
        "train_labels_pd_series = pd.Series(train_labels)\n",
        "print(f\"Number of unique classes: {train_labels_pd_series.nunique()}\")\n",
        "print('Number of images per class in the training dataset:')\n",
        "train_labels_pd_series.value_counts()\n"
      ]
    },
    {
      "cell_type": "code",
      "execution_count": null,
      "metadata": {
        "colab": {
          "base_uri": "https://localhost:8080/",
          "height": 701
        },
        "id": "NopxJISLOcm4",
        "outputId": "c699e459-873b-40f2-d70b-563a6e71b34f"
      },
      "outputs": [
        {
          "data": {
            "image/png": "[encoded data removed]",
            "text/plain": [
              "<Figure size 864x864 with 9 Axes>"
            ]
          },
          "metadata": {
            "needs_background": "light"
          },
          "output_type": "display_data"
        }
      ],
      "source": [
        "fig, ax = plt.subplots(3, 3, figsize=(12, 12))\n",
        "for i in range(3):\n",
        "  subset_imgs = train_images[train_labels == i, :, :]\n",
        "  for j in range(3):\n",
        "    ax[i, j].imshow(subset_imgs[j, :, :], cmap='gray')\n",
        "\n",
        "\n",
        "train_labels = to_categorical(train_labels)\n",
        "test_labels = to_categorical(test_labels)"
      ]
    },
    {
      "cell_type": "code",
      "execution_count": null,
      "metadata": {
        "id": "aRjjvhe1Qgop"
      },
      "outputs": [],
      "source": [
        "def create_model(model_name):\n",
        "  \"\"\" Function to create the model \"\"\"\n",
        "\n",
        "  # Input layer of shape 28x28x1, making the assumption that\n",
        "  # the training data has not been normalized\n",
        "  inputs = layers.Input(shape=(28, 28, 1), dtype='float32')\n",
        "\n",
        "  # Add batch normalization for the input\n",
        "  x = layers.BatchNormalization()(inputs)\n",
        "\n",
        "  # First convolution block\n",
        "  x = layers.Conv2D(filters=6,\n",
        "                    kernel_size=(5, 5),\n",
        "                    strides=(1, 1),\n",
        "                    activation='tanh',\n",
        "                    padding='same')(x)\n",
        "  x = layers.BatchNormalization()(x)\n",
        "  x = layers.AveragePooling2D(pool_size=(2, 2),\n",
        "                              strides=(2, 2),\n",
        "                              padding='valid')(x)\n",
        "  \n",
        "  # Second convolution block\n",
        "  x = layers.Conv2D(filters=16,\n",
        "                    kernel_size=(5, 5),\n",
        "                    strides=(1, 1),\n",
        "                    activation='tanh',\n",
        "                    padding='valid')(x)\n",
        "  x = layers.BatchNormalization()(x)\n",
        "  x = layers.AveragePooling2D(pool_size=(2, 2),\n",
        "                              strides=(2, 2),\n",
        "                              padding='valid')(x)\n",
        "  \n",
        "  # Fully connected convolution layer\n",
        "  x = layers.Conv2D(filters=120,\n",
        "                    kernel_size=(5, 5),\n",
        "                    strides=(1, 1),\n",
        "                    activation='tanh',\n",
        "                    padding='valid')(x)\n",
        "  x = layers.BatchNormalization()(x)\n",
        "\n",
        "  # Flatten and create dense layer\n",
        "  x = layers.Flatten()(x)\n",
        "  x = layers.Dense(84, activation='tanh')(x)\n",
        "  x = layers.BatchNormalization()(x)\n",
        "\n",
        "  # Output layer with softmax probability activation\n",
        "  outputs = layers.Dense(10, activation='softmax')(x)\n",
        "\n",
        "  # Create the model and return\n",
        "  model = Model(inputs=inputs, outputs=outputs, name=model_name)\n",
        "  return model"
      ]
    },
    {
      "cell_type": "code",
      "execution_count": null,
      "metadata": {
        "colab": {
          "base_uri": "https://localhost:8080/",
          "height": 896
        },
        "id": "KYQGOyRpQgm-",
        "outputId": "cf0344c8-2541-4836-df2b-b1c6e3353755"
      },
      "outputs": [
        {
          "name": "stderr",
          "output_type": "stream",
          "text": [
            "100%|██████████| 11/11 [33:39<00:00, 183.58s/it]\n"
          ]
        }
      ],
      "source": [
        "\n",
        "training_loss_log = []\n",
        "learning_rate_log = []\n",
        "\n",
        "\n",
        "for i in tqdm(range(-9, 2)):\n",
        "  lr = 10**i\n",
        "  model = create_model(f'model_{i}')\n",
        "  model.compile(loss=tf.keras.losses.categorical_crossentropy,\n",
        "                optimizer=tf.keras.optimizers.SGD(learning_rate=lr),\n",
        "                metrics=['accuracy'])\n",
        "  _ = model.fit(x=train_images,\n",
        "                y=train_labels,\n",
        "                batch_size=64,\n",
        "                epochs=5,\n",
        "                validation_data = (test_images, test_labels),\n",
        "                verbose=0)\n",
        "  training_loss_log.append(model.history.history['loss'][-1])\n",
        "  learning_rate_log.append(lr)"
      ]
    },
    {
      "cell_type": "code",
      "execution_count": null,
      "metadata": {
        "id": "d-qsn8vqQgkN",
        "outputId": "35cacdaa-c743-4aca-b84a-896c4513d914"
      },
      "outputs": [
        {
          "data": {
            "text/plain": [
              "[Text(0, 0.5, 'Training Loss'),\n",
              " Text(0.5, 0, 'Learning Rate'),\n",
              " None,\n",
              " Text(0.5, 1.0, 'Training Loss vs. Learning Rate')]"
            ]
          },
          "execution_count": 49,
          "metadata": {},
          "output_type": "execute_result"
        },
        {
          "data": {
            "image/png": "[encoded data removed]",
            "text/plain": [
              "<Figure size 648x432 with 1 Axes>"
            ]
          },
          "metadata": {
            "needs_background": "light"
          },
          "output_type": "display_data"
        }
      ],
      "source": [
        "import matplotlib.pyplot as plt\n",
        "import seaborn as sns\n",
        "fig, ax = plt.subplots(figsize=(9, 6))\n",
        "sns.lineplot(x=learning_rate_log, y=training_loss_log)\n",
        "ax.set(ylabel='Training Loss',\n",
        "       xlabel='Learning Rate',\n",
        "       xscale='log',\n",
        "       title='Training Loss vs. Learning Rate')"
      ]
    },
    {
      "cell_type": "code",
      "execution_count": null,
      "metadata": {
        "id": "VxiRwH7rQgfz",
        "outputId": "11828300-b03a-485a-8173-eda7d96d4c73"
      },
      "outputs": [
        {
          "name": "stdout",
          "output_type": "stream",
          "text": [
            "lr_max=1e-09, lr_min=0.1\n"
          ]
        }
      ],
      "source": [
        "lr_max = 10**-9\n",
        "lr_min = 10**-1\n",
        "\n",
        "print(f\"lr_max={lr_max}, lr_min={lr_min}\")"
      ]
    },
    {
      "cell_type": "code",
      "execution_count": null,
      "metadata": {
        "id": "cuOmU8loQgW4"
      },
      "outputs": [],
      "source": [
        ""
      ]
    },
    {
      "cell_type": "markdown",
      "metadata": {
        "id": "SxvwfUeLN_pQ"
      },
      "source": [
        "## 2)\n",
        "Use the cyclical learning rate policy (with exponential decay) and train your network using batch size 64 and lrmin and lrmax values obtained in part 1. Plot train/validation loss and accuracy curve (similar to Figure 4 in reference). (3)"
      ]
    },
    {
      "cell_type": "code",
      "execution_count": null,
      "metadata": {
        "id": "Kc85YSVJSol_"
      },
      "outputs": [],
      "source": [
        "from tensorflow.keras.callbacks import *\n",
        "from tensorflow.keras import backend as K\n",
        "import numpy as np\n",
        "\n",
        "class CyclicLR(Callback):\n",
        "    \"\"\"This callback implements a cyclical learning rate policy (CLR).\n",
        "    The method cycles the learning rate between two boundaries with\n",
        "    some constant frequency, as detailed in this paper (https://arxiv.org/abs/1506.01186).\n",
        "    The amplitude of the cycle can be scaled on a per-iteration or \n",
        "    per-cycle basis.\n",
        "    This class has three built-in policies, as put forth in the paper.\n",
        "    \"triangular\":\n",
        "        A basic triangular cycle w/ no amplitude scaling.\n",
        "    \"triangular2\":\n",
        "        A basic triangular cycle that scales initial amplitude by half each cycle.\n",
        "    \"exp_range\":\n",
        "        A cycle that scales initial amplitude by gamma**(cycle iterations) at each \n",
        "        cycle iteration.\n",
        "    For more detail, please see paper.\n",
        "    \n",
        "    # Example\n",
        "        ```python\n",
        "            clr = CyclicLR(base_lr=0.001, max_lr=0.006,\n",
        "                                step_size=2000., mode='triangular')\n",
        "            model.fit(X_train, Y_train, callbacks=[clr])\n",
        "        ```\n",
        "    \n",
        "    Class also supports custom scaling functions:\n",
        "        ```python\n",
        "            clr_fn = lambda x: 0.5*(1+np.sin(x*np.pi/2.))\n",
        "            clr = CyclicLR(base_lr=0.001, max_lr=0.006,\n",
        "                                step_size=2000., scale_fn=clr_fn,\n",
        "                                scale_mode='cycle')\n",
        "            model.fit(X_train, Y_train, callbacks=[clr])\n",
        "        ```    \n",
        "    # Arguments\n",
        "        base_lr: initial learning rate which is the\n",
        "            lower boundary in the cycle.\n",
        "        max_lr: upper boundary in the cycle. Functionally,\n",
        "            it defines the cycle amplitude (max_lr - base_lr).\n",
        "            The lr at any cycle is the sum of base_lr\n",
        "            and some scaling of the amplitude; therefore \n",
        "            max_lr may not actually be reached depending on\n",
        "            scaling function.\n",
        "        step_size: number of training iterations per\n",
        "            half cycle. Authors suggest setting step_size\n",
        "            2-8 x training iterations in epoch.\n",
        "        mode: one of {triangular, triangular2, exp_range}.\n",
        "            Default 'triangular'.\n",
        "            Values correspond to policies detailed above.\n",
        "            If scale_fn is not None, this argument is ignored.\n",
        "        gamma: constant in 'exp_range' scaling function:\n",
        "            gamma**(cycle iterations)\n",
        "        scale_fn: Custom scaling policy defined by a single\n",
        "            argument lambda function, where \n",
        "            0 <= scale_fn(x) <= 1 for all x >= 0.\n",
        "            mode paramater is ignored \n",
        "        scale_mode: {'cycle', 'iterations'}.\n",
        "            Defines whether scale_fn is evaluated on \n",
        "            cycle number or cycle iterations (training\n",
        "            iterations since start of cycle). Default is 'cycle'.\n",
        "    \"\"\"\n",
        "\n",
        "    def __init__(self, base_lr=0.001, max_lr=0.006, step_size=2000., mode='triangular',\n",
        "                 gamma=1., scale_fn=None, scale_mode='cycle'):\n",
        "        super(CyclicLR, self).__init__()\n",
        "\n",
        "        self.base_lr = base_lr\n",
        "        self.max_lr = max_lr\n",
        "        self.step_size = step_size\n",
        "        self.mode = mode\n",
        "        self.gamma = gamma\n",
        "        if scale_fn == None:\n",
        "            if self.mode == 'triangular':\n",
        "                self.scale_fn = lambda x: 1.\n",
        "                self.scale_mode = 'cycle'\n",
        "            elif self.mode == 'triangular2':\n",
        "                self.scale_fn = lambda x: 1/(2.**(x-1))\n",
        "                self.scale_mode = 'cycle'\n",
        "            elif self.mode == 'exp_range':\n",
        "                self.scale_fn = lambda x: gamma**(x)\n",
        "                self.scale_mode = 'iterations'\n",
        "        else:\n",
        "            self.scale_fn = scale_fn\n",
        "            self.scale_mode = scale_mode\n",
        "        self.clr_iterations = 0.\n",
        "        self.trn_iterations = 0.\n",
        "        self.history = {}\n",
        "\n",
        "        self._reset()\n",
        "\n",
        "    def _reset(self, new_base_lr=None, new_max_lr=None,\n",
        "               new_step_size=None):\n",
        "        \"\"\"Resets cycle iterations.\n",
        "        Optional boundary/step size adjustment.\n",
        "        \"\"\"\n",
        "        if new_base_lr != None:\n",
        "            self.base_lr = new_base_lr\n",
        "        if new_max_lr != None:\n",
        "            self.max_lr = new_max_lr\n",
        "        if new_step_size != None:\n",
        "            self.step_size = new_step_size\n",
        "        self.clr_iterations = 0.\n",
        "        \n",
        "    def clr(self):\n",
        "        cycle = np.floor(1+self.clr_iterations/(2*self.step_size))\n",
        "        x = np.abs(self.clr_iterations/self.step_size - 2*cycle + 1)\n",
        "        if self.scale_mode == 'cycle':\n",
        "            return self.base_lr + (self.max_lr-self.base_lr)*np.maximum(0, (1-x))*self.scale_fn(cycle)\n",
        "        else:\n",
        "            return self.base_lr + (self.max_lr-self.base_lr)*np.maximum(0, (1-x))*self.scale_fn(self.clr_iterations)\n",
        "        \n",
        "    def on_train_begin(self, logs={}):\n",
        "        logs = logs or {}\n",
        "\n",
        "        if self.clr_iterations == 0:\n",
        "            K.set_value(self.model.optimizer.lr, self.base_lr)\n",
        "        else:\n",
        "            K.set_value(self.model.optimizer.lr, self.clr())        \n",
        "            \n",
        "    def on_batch_end(self, epoch, logs=None):\n",
        "        \n",
        "        logs = logs or {}\n",
        "        self.trn_iterations += 1\n",
        "        self.clr_iterations += 1\n",
        "\n",
        "        self.history.setdefault('lr', []).append(K.get_value(self.model.optimizer.lr))\n",
        "        self.history.setdefault('iterations', []).append(self.trn_iterations)\n",
        "\n",
        "        for k, v in logs.items():\n",
        "            self.history.setdefault(k, []).append(v)\n",
        "        \n",
        "        K.set_value(self.model.optimizer.lr, self.clr())"
      ]
    },
    {
      "cell_type": "code",
      "execution_count": null,
      "metadata": {
        "id": "t3x-jPe1Sohc"
      },
      "outputs": [],
      "source": [
        "clr = CyclicLR(base_lr=lr_min,\n",
        "               max_lr=lr_max,\n",
        "               step_size=10**3,\n",
        "               mode='exp_range',\n",
        "               gamma=0.99994)"
      ]
    },
    {
      "cell_type": "code",
      "execution_count": null,
      "metadata": {
        "id": "veWdT4hFSock",
        "outputId": "ffcc19f9-8cf8-4b37-a289-4a233702fa84"
      },
      "outputs": [
        {
          "name": "stdout",
          "output_type": "stream",
          "text": [
            "Model: \"clr_exp_decay\"\n",
            "_________________________________________________________________\n",
            " Layer (type)                Output Shape              Param #   \n",
            "=================================================================\n",
            " input_18 (InputLayer)       [(None, 28, 28, 1)]       0         \n",
            "                                                                 \n",
            " batch_normalization_79 (Bat  (None, 28, 28, 1)        4         \n",
            " chNormalization)                                                \n",
            "                                                                 \n",
            " conv2d_51 (Conv2D)          (None, 28, 28, 6)         156       \n",
            "                                                                 \n",
            " batch_normalization_80 (Bat  (None, 28, 28, 6)        24        \n",
            " chNormalization)                                                \n",
            "                                                                 \n",
            " average_pooling2d_34 (Avera  (None, 14, 14, 6)        0         \n",
            " gePooling2D)                                                    \n",
            "                                                                 \n",
            " conv2d_52 (Conv2D)          (None, 10, 10, 16)        2416      \n",
            "                                                                 \n",
            " batch_normalization_81 (Bat  (None, 10, 10, 16)       64        \n",
            " chNormalization)                                                \n",
            "                                                                 \n",
            " average_pooling2d_35 (Avera  (None, 5, 5, 16)         0         \n",
            " gePooling2D)                                                    \n",
            "                                                                 \n",
            " conv2d_53 (Conv2D)          (None, 1, 1, 120)         48120     \n",
            "                                                                 \n",
            " batch_normalization_82 (Bat  (None, 1, 1, 120)        480       \n",
            " chNormalization)                                                \n",
            "                                                                 \n",
            " flatten_17 (Flatten)        (None, 120)               0         \n",
            "                                                                 \n",
            " dense_139 (Dense)           (None, 84)                10164     \n",
            "                                                                 \n",
            " batch_normalization_83 (Bat  (None, 84)               336       \n",
            " chNormalization)                                                \n",
            "                                                                 \n",
            " dense_140 (Dense)           (None, 10)                850       \n",
            "                                                                 \n",
            "=================================================================\n",
            "Total params: 62,614\n",
            "Trainable params: 62,160\n",
            "Non-trainable params: 454\n",
            "_________________________________________________________________\n"
          ]
        }
      ],
      "source": [
        "model = create_model('clr_exp_decay')\n",
        "model.summary()"
      ]
    },
    {
      "cell_type": "code",
      "execution_count": null,
      "metadata": {
        "id": "Iv2nu0CiSoUK",
        "outputId": "141d9630-e28f-47e7-99d1-a2c022153322"
      },
      "outputs": [
        {
          "name": "stdout",
          "output_type": "stream",
          "text": [
            "Epoch 1/5\n",
            "938/938 [==============================] - 39s 41ms/step - loss: 0.4513 - accuracy: 0.8360 - val_loss: 0.3545 - val_accuracy: 0.8704\n",
            "Epoch 2/5\n",
            "938/938 [==============================] - 38s 41ms/step - loss: 0.3390 - accuracy: 0.8769 - val_loss: 0.4327 - val_accuracy: 0.8388\n",
            "Epoch 3/5\n",
            "938/938 [==============================] - 38s 41ms/step - loss: 0.3026 - accuracy: 0.8888 - val_loss: 0.2927 - val_accuracy: 0.8930\n",
            "Epoch 4/5\n",
            "938/938 [==============================] - 38s 40ms/step - loss: 0.2600 - accuracy: 0.9038 - val_loss: 0.3527 - val_accuracy: 0.8742\n",
            "Epoch 5/5\n",
            "938/938 [==============================] - 38s 41ms/step - loss: 0.2633 - accuracy: 0.9026 - val_loss: 0.2947 - val_accuracy: 0.8928\n"
          ]
        }
      ],
      "source": [
        "model.compile(loss=tf.keras.losses.categorical_crossentropy,\n",
        "              optimizer='sgd',\n",
        "              metrics=['accuracy'])\n",
        "\n",
        "history = model.fit(x=train_images,\n",
        "                    y=train_labels,\n",
        "                    batch_size=64,\n",
        "                    epochs=5,\n",
        "                    validation_data = (test_images, test_labels),\n",
        "                    verbose=1,\n",
        "                    callbacks=[clr])"
      ]
    },
    {
      "cell_type": "code",
      "execution_count": null,
      "metadata": {
        "id": "fuyvqigESvfO",
        "outputId": "7d236aff-2b6f-4742-f98f-472832eef9c5"
      },
      "outputs": [
        {
          "data": {
            "text/plain": [
              "[Text(0, 0.5, 'Metric'),\n",
              " Text(0.5, 0, 'Epoch'),\n",
              " Text(0.5, 1.0, 'CyclicLR w/Exp Decay Metrics')]"
            ]
          },
          "execution_count": 55,
          "metadata": {},
          "output_type": "execute_result"
        },
        {
          "data": {
            "image/png": "[encoded data removed]",
            "text/plain": [
              "<Figure size 648x432 with 1 Axes>"
            ]
          },
          "metadata": {
            "needs_background": "light"
          },
          "output_type": "display_data"
        }
      ],
      "source": [
        "df_metrics = pd.DataFrame(data={\n",
        "    'epoch': [i for i in range(1, 6)] * 4,\n",
        "    'metric': ['accuracy'] * 5 + ['loss'] * 5 + ['val_accuracy'] * 5 + ['val_loss'] * 5,\n",
        "    'value': history.history['accuracy'] + history.history['loss'] + history.history['val_accuracy'] + history.history['val_loss']\n",
        "})\n",
        "\n",
        "df_metrics.head()\n",
        "fig, ax = plt.subplots(figsize=(9, 6))\n",
        "sns.lineplot(x='epoch', y='value', hue='metric', data=df_metrics)\n",
        "ax.set(ylabel='Metric',\n",
        "       xlabel='Epoch',\n",
        "       title='CyclicLR w/Exp Decay Metrics')"
      ]
    },
    {
      "cell_type": "code",
      "execution_count": null,
      "metadata": {
        "id": "OIcvX56ASvV4"
      },
      "outputs": [],
      "source": [
        ""
      ]
    },
    {
      "cell_type": "markdown",
      "metadata": {
        "id": "GTcsld8AN__C"
      },
      "source": [
        "## 3)\n",
        "We want to test if increasing batch size for a fixed learning rate has the same effect as decreasing learning rate for fixed batch size. Fix learning rate to lrmax and train your network starting with batch size 32 and incrementally going up to 16384 (in increments of a factor of 2; like 32, 64...). You can choose a step size (in terms of the number of iterations) to increment the batch size. If your GPU cannot handle large batch sizes, you need to employ an effective batch size approach as discussed in Lecture 3 to simulate large batches. Plot the training loss. Is the generalization of your final model similar or different from than cyclical learning rate policy? (10)"
      ]
    },
    {
      "cell_type": "code",
      "execution_count": null,
      "metadata": {
        "id": "7VaOE14zljUV",
        "outputId": "8acfb2a0-5eb4-4639-fab1-0a59f7de8c9c"
      },
      "outputs": [
        {
          "name": "stdout",
          "output_type": "stream",
          "text": [
            "Defaulting to user installation because normal site-packages is not writeable\n",
            "Requirement already satisfied: tqdm in /home/qs2097/.local/lib/python3.8/site-packages (4.63.1)\n",
            "\u001b[33mWARNING: You are using pip version 20.2.3; however, version 22.0.4 is available.\n",
            "You should consider upgrading via the '/share/apps/python/3.8.6/intel/bin/python -m pip install --upgrade pip' command.\u001b[0m\n"
          ]
        }
      ],
      "source": [
        "!pip install tqdm\n",
        "from tqdm import tqdm"
      ]
    },
    {
      "cell_type": "code",
      "execution_count": null,
      "metadata": {
        "id": "FQvm35VMOQlK",
        "outputId": "6207ddb7-99b4-4816-b887-708e3cf7c141"
      },
      "outputs": [
        {
          "name": "stderr",
          "output_type": "stream",
          "text": [
            "100%|██████████| 10/10 [35:44<00:00, 214.49s/it]\n"
          ]
        }
      ],
      "source": [
        "training_loss_log = []\n",
        "batch_size_log = []\n",
        "\n",
        "for i in tqdm(range(5, 15)):\n",
        "  bs = 2**i\n",
        "  model = create_model(f'model_bs_{i}')\n",
        "  model.compile(loss=tf.keras.losses.categorical_crossentropy,\n",
        "                optimizer=tf.keras.optimizers.SGD(learning_rate=lr_max),\n",
        "                metrics=['accuracy'])\n",
        "  _ = model.fit(x=train_images,\n",
        "                y=train_labels,\n",
        "                batch_size=bs,\n",
        "                epochs=5,\n",
        "                validation_data = (test_images, test_labels),\n",
        "                verbose=0)\n",
        "  training_loss_log.append(model.history.history['loss'][-1])\n",
        "  batch_size_log.append(bs)"
      ]
    },
    {
      "cell_type": "code",
      "execution_count": null,
      "metadata": {
        "id": "IT7FrTWEUx3A",
        "outputId": "694465d3-7e43-4412-9a7b-fe3a6854b6ee"
      },
      "outputs": [
        {
          "data": {
            "text/plain": [
              "[Text(0, 0.5, 'Training Loss'),\n",
              " Text(0.5, 0, 'Batch Size'),\n",
              " Text(0.5, 1.0, 'Training Loss vs. Batch Size')]"
            ]
          },
          "execution_count": 21,
          "metadata": {},
          "output_type": "execute_result"
        },
        {
          "data": {
            "image/png": "[encoded data removed]",
            "text/plain": [
              "<Figure size 648x432 with 1 Axes>"
            ]
          },
          "metadata": {
            "needs_background": "light"
          },
          "output_type": "display_data"
        }
      ],
      "source": [
        "fig, ax = plt.subplots(figsize=(9, 6))\n",
        "sns.lineplot(x=batch_size_log, y=training_loss_log)\n",
        "ax.set(ylabel='Training Loss',\n",
        "       xlabel='Batch Size',\n",
        "       title='Training Loss vs. Batch Size')"
      ]
    },
    {
      "cell_type": "markdown",
      "metadata": {
        "id": "AMMOrGelpOCb"
      },
      "source": [
        "# Problem 4 - Adaptive Learning Rate Methods, CIFAR-10 20 points"
      ]
    },
    {
      "cell_type": "markdown",
      "metadata": {
        "id": "J-fNrObZlDFv"
      },
      "source": [
        "## 1)\n",
        "Write the weight update equations for the five adaptive learning rate methods. Explain each term clearly. What are the hyperparameters in each policy? Explain how AdaDelta and Adam are different from RMSProp.\n",
        "\n",
        "\n",
        "\n",
        "**A**:\n",
        "\n",
        " $\\eta$ represent the learning rate for all five learning rate methods.\n",
        "\n",
        "##### -- **AdaGrad** --\n",
        "\n",
        "$g_{t,i}$ represent the partial derivative of model parameter $\\theta_i$ at time step $t$:\n",
        "\n",
        "$$ g_{t,i} = \\nabla_{\\theta}J(\\theta_{t,i}) $$\n",
        "\n",
        "Where $J$ represents the objective function we are trying to optimize over.\n",
        "\n",
        "The Stochastic Gradient Descent for each model parameter $\\theta_i$ at each time step $t$ now becomes:\n",
        "\n",
        "$$ \\theta_{t+1,i} = \\theta_{t,i} - \\eta g_{t,i} $$\n",
        "\n",
        "Each update, AdaGrad changes the learning rate $\\eta$ for each model parameter based on the past gradients for each model parameter. Let $G_t$ be an $dxd$ matrix where each diagonal element $i$, $i$ is the sum of the squares of the gradients w.r.t. $\\theta_i$ up to time step $t$\n",
        "\n",
        "$$ \\theta_{t+1, i} = \\theta_{t,i} - \\frac{\\eta}{\\sqrt{G_{t,ii} + \\epsilon}} g_{t,i} $$\n",
        "\n",
        "Here, $\\epsilon$ is a smoothing parameter so that we don't incur division by zero errors.\n",
        "\n",
        "Because $G_t$ contains the sum of squares of the gradients w.r.t $\\theta$ on the diagonal, the implementation can be vectorized by taking the matrix vector product $\\odot$ between $G_t$ and $g_t$:\n",
        "\n",
        "$$ \\theta_{t+1} = \\theta_t - \\frac{\\eta}{\\sqrt{G_t+ \\epsilon}} \\odot g_t $$\n",
        "\n",
        "##### -- **RMSProp** --\n",
        "\n",
        "RMSProp is identical to the first update vector of AdaDelta below (using $\\gamma$ = 0.9):\n",
        "\n",
        "$$ E[g^2]_t = 0.9 E[g^2]_{t-1} + 0.1g_t^2 $$\n",
        "\n",
        "The parameter update formula is thus:\n",
        "\n",
        "$$ \\theta_{t+1} = \\theta_t - \\frac{\\eta}{\\sqrt{E[g_t]^2 + \\epsilon}} g_t $$ \n",
        "\n",
        "##### -- **RMSProp + Nesterov** --\n",
        "\n",
        "Adam is essentially RMSProp with momentum. RMSProp + Nesterov momentum (also known as Nadam) takes it a step further to use Nesterov which is proven to be better than standard momentum.\n",
        "\n",
        "The momentum update rule is:\n",
        "\n",
        "$$ g_t = \\nabla _{\\theta_t}J(\\theta_t) $$\n",
        "\n",
        "$$ m_t = \\gamma m_{t-1} + \\eta g_t $$\n",
        "\n",
        "$$ \\theta_{t+1} = \\theta_t - m_t $$\n",
        "\n",
        "In the above series of formulas, $J$ is the objective funtion, $\\gamma$ is the momentum decay term, and $\\eta$ is the step size. We can combine the second into the third:\n",
        "\n",
        "$$ \\theta_{t+1} = \\theta_t - ( \\gamma m_{t-1} + \\eta g_t ) $$\n",
        "\n",
        "This shows that momentum involves taking a step in the direction of the previous momentum vector as well as a step in the direction of the current gradient.\n",
        "\n",
        "RMSProp + Nesterov allows us to take a more accurate step in the gradient direction by updating the parameters with the momentum step before computing the gradient. We thus only need to modify the gradient $g_t$ to arrive at RMSProp + Nesterov:\n",
        "\n",
        "$$ g_t = \\nabla _{\\theta_t}J(\\theta_t - \\gamma m_{t-1}) $$\n",
        "\n",
        "$$ m_t = \\gamma m_{t-1} + \\eta g_t $$\n",
        "\n",
        "$$ \\theta_{t+1} = \\theta_t - m_t $$\n",
        "\n",
        "One note from above is that we are actually apply momentum twice; once in the gradient calculation as well as in the parameter update. One way to correct for this is to apply the momentum directly to the current parameter updates as opposed to the gradient.\n",
        "\n",
        "$$ g_t = \\nabla _{\\theta_t}J(\\theta_t) $$\n",
        "\n",
        "$$ m_t = \\gamma m_{t-1} + \\eta g_t $$\n",
        "\n",
        "$$ \\theta_{t+1} = \\theta_t - ( \\gamma m_{t-1} + \\eta g_t ) $$\n",
        "\n",
        "In order to add Nesterov momentum, we can thus similarly replace the previous momentum vector with the current momentum vector.\n",
        "\n",
        "Using the Adam update formulas from below:\n",
        "\n",
        "$$ m_t = \\beta_1 m_{t-1} + (1-\\beta_1)g_t $$\n",
        "\n",
        "$$ \\hat{m}_t = \\frac{m_t}{1 - \\beta_1^t} $$\n",
        "\n",
        "$$ \\theta_{t+1} = \\theta_t - \\frac{\\eta}{\\sqrt{\\hat{v}_t} + \\epsilon} \\hat{m}_t $$\n",
        "\n",
        "Plugging $m_t$ and $\\hat{m}_t$ into the parameter update equation yields:\n",
        "\n",
        "$$ \\theta_{t+1} = \\theta_t - \\frac{\\eta}{\\sqrt{\\hat{v}_t} + \\epsilon} (\\frac{\\beta_1m_{t-1}}{1-\\beta_1^t} + \\frac{(1-\\beta_1)g_t}{1-\\beta_1^t}) $$\n",
        "\n",
        "We are still using the previous momentum vector, so to add Nesterov momentum, we simply use the current momentum vector. Simplifying and replacing $\\frac{\\beta_1m_{t-1}}{1-\\beta_1^t} = \\hat{m}_{t-1}$, we get the final RMSProp + Nesterov update formula:\n",
        "\n",
        "$$ \\theta_{t+1} = \\theta_t - \\frac{\\eta}{\\sqrt{\\hat{v}_t} + \\epsilon} (\\beta_1\\hat{m}_{t} + \\frac{(1-\\beta_1)g_t}{1-\\beta_1^t}) $$\n",
        "\n",
        "##### -- **AdaDelta** --\n",
        "\n",
        "AdaDelta is similar to AdaGrad but slightly different in the sense that it restricts the accumulation of all past gradients to a fixed window $w$.\n",
        "\n",
        "Instead of inefficiently storing $w$ previous squared gradients, the sum of gradients is recursively defined as a decaying average of all past squared gradients.  The running average $E[g^2]_t$ at time $t$ thus depends only on the previous average and current gradient.\n",
        "\n",
        "$$ E[g^2]_t = \\gamma E[g^2]_{t-1} + (1 - \\gamma)g_t^2 $$\n",
        "\n",
        "This is the running average ($E$) of the squared gradients ($g^2$) at time ($t$) with momentum ($\\gamma$).\n",
        "\n",
        "We can simplify the paramater update.\n",
        "\n",
        "$$\\triangle \\theta_t = -\\eta \\cdot g_t$$\n",
        "$$\\theta_{t+1} = \\theta_t + \\triangle \\theta_t $$\n",
        "\n",
        "Using the AdaGrad derived parameter update formula from above and replacing $G_t$ with $E[g^2]_t$.\n",
        "\n",
        "$$ \\Delta\\theta_t = - \\frac{\\eta}{\\sqrt{ E[g^2]_t+ \\epsilon}} g_t $$\n",
        "\n",
        "The denominator of the above formula is simply the Root Mean Squared error and can be rewritten.\n",
        "\n",
        "$$ \\Delta\\theta_t = - \\frac{\\eta}{RMS[g]_t} g_t $$\n",
        "\n",
        "The units from the above formula do not match. To fix this, we define another exponentially decaying average not of the gradients but of the parameter updates.\n",
        "\n",
        "$$ E[\\Delta\\theta^2]_t = \\gamma E[\\Delta\\theta^2]_{t-1} + (1 - \\gamma)\\Delta\\theta^2 $$\n",
        "\n",
        "The root mean square error of the parameter updates is thus:\n",
        "\n",
        "$$ RMS[\\Delta\\theta]_t = \\sqrt{E[\\Delta\\theta^2]_t + \\epsilon} $$\n",
        "\n",
        "Because the above is unknown, we can approximate it with the RMS of parameter updates until the previous time step. Replacing learning rate $\\eta$ with $RMS[\\Delta\\theta]_{t-1}$ yields:\n",
        "\n",
        "$$ \\Delta\\theta_t = - \\frac{RMS[\\Delta\\theta]_{t-1}}{RMS[g]_t} g_t $$\n",
        "\n",
        "$$ \\theta_{t+1} = \\theta_t + \\Delta \\theta_t $$\n",
        "\n",
        "##### -- **Adam** --\n",
        "\n",
        "Adam also computes adaptive learning rates per model parameters. Adam stores the exponentially decaying average of past squared gradients $v_t$ similarly to AdaDelta and RMSProp, but also stores the past exponentially decaying gradients $m_t$, similar to momentum.  We compute the decaying averages of past and past squared gradients $m_t% and $v_t$ respectively as follows: \n",
        "\n",
        "$$ m_t = \\beta_1 m_{t-1} + (1-\\beta_1)g_t $$\n",
        "$$ v_t = \\beta_2 v_{t-1} + (1-\\beta_2)g_t^2 $$\n",
        "\n",
        "$m_t$ and $v_t$ are estimates of the first and second moment (mean and variance) of the gradients, respectively.\n",
        "\n",
        "When $m_t$ and $v_t$ are initialized to vectors of 0s, they bias towards 0, especially in the initial time steps. In order to account for this, we take bias-corrected estimates as follows:\n",
        "\n",
        "$$ \\hat{m}_t = \\frac{m_t}{1 - \\beta_1^t} $$\n",
        "\n",
        "$$ \\hat{v}_t = \\frac{v_t}{1 - \\beta_2^t} $$\n",
        "\n",
        "Using these in the same parameter update formula as AdaDelta and RMSProp yields the final Adam update rule:\n",
        "\n",
        "$$ \\theta_{t+1} = \\theta_t - \\frac{\\eta}{\\sqrt{\\hat{v}_t} + \\epsilon} \\hat{m}_t $$\n",
        "\n",
        "AdaDelta and Adam are different from RMSProp in the sense that both of them use momentum whereas RMSProp does not."
      ]
    },
    {
      "cell_type": "markdown",
      "metadata": {
        "id": "F_6zDvlalCjJ"
      },
      "source": [
        "## 2)\n",
        "\n",
        "Train the neural network using all the five methods with L2-regularization for 200 epochs each and plot the training loss vs the number of epochs. Which method performs best (lowest training loss)?\n",
        "\n",
        "\n"
      ]
    },
    {
      "cell_type": "code",
      "execution_count": 3,
      "metadata": {
        "colab": {
          "base_uri": "https://localhost:8080/",
          "height": 36
        },
        "id": "MLBdJpAdoVaN",
        "outputId": "697dbca3-1150-4dee-bfa0-6e3e3b28d3b0"
      },
      "outputs": [
        {
          "output_type": "execute_result",
          "data": {
            "text/plain": [
              "'2.8.0'"
            ],
            "application/vnd.google.colaboratory.intrinsic+json": {
              "type": "string"
            }
          },
          "metadata": {},
          "execution_count": 3
        }
      ],
      "source": [
        "import tensorflow as tf\n",
        "from tensorflow import keras\n",
        "from tensorflow.keras.datasets import cifar10\n",
        "from tensorflow.keras import layers, Model\n",
        "from tensorflow.keras.utils import to_categorical\n",
        "\n",
        "tf.__version__\n"
      ]
    },
    {
      "cell_type": "code",
      "execution_count": 4,
      "metadata": {
        "colab": {
          "base_uri": "https://localhost:8080/"
        },
        "id": "v6c7-gA7oVMO",
        "outputId": "a455d672-430d-4038-8f47-31b861b67b89"
      },
      "outputs": [
        {
          "output_type": "stream",
          "name": "stdout",
          "text": [
            "Downloading data from https://www.cs.toronto.edu/~kriz/cifar-10-python.tar.gz\n",
            "170500096/170498071 [==============================] - 2s 0us/step\n",
            "170508288/170498071 [==============================] - 2s 0us/step\n",
            "(50000, 3072) (50000, 10)\n",
            "(10000, 3072) (10000, 10)\n"
          ]
        }
      ],
      "source": [
        "(x_train, y_train), (x_test, y_test) = cifar10.load_data()\n",
        "\n",
        "# Set numeric type to float32 from uint8\n",
        "x_train = x_train.astype('float32')\n",
        "x_test = x_test.astype('float32')\n",
        "\n",
        "# Normalize value to [0, 1]\n",
        "x_train /= 255\n",
        "x_test /= 255\n",
        "\n",
        "# flatten x matrices\n",
        "x_train = x_train.reshape(x_train.shape[0], -1)\n",
        "x_test = x_test.reshape(x_test.shape[0], -1)\n",
        "\n",
        "# expand y targets\n",
        "y_train = to_categorical(y_train)\n",
        "y_test = to_categorical(y_test)\n",
        "\n",
        "print(x_train.shape, y_train.shape)\n",
        "print(x_test.shape, y_test.shape)"
      ]
    },
    {
      "cell_type": "code",
      "execution_count": 5,
      "metadata": {
        "id": "f-MGahgLoVFP"
      },
      "outputs": [],
      "source": [
        "def create_model(model_name, optimizer, dropout=False):\n",
        "  \"\"\" Return network for training. \"\"\"\n",
        "  \n",
        "  # define input\n",
        "  inputs = layers.Input(shape=(3072,), dtype='float32', name=f'input_{model_name}')\n",
        "\n",
        "  # add fully connected with dropout if needed\n",
        "  if dropout:\n",
        "    x = layers.Dropout(0.2, name=f'input_dropout_{model_name}')(inputs)\n",
        "    for i in range(2):\n",
        "      x = layers.Dense(1000,\n",
        "                       activation='relu',\n",
        "                       kernel_regularizer='l2',\n",
        "                       bias_regularizer='l2',\n",
        "                       name=f'dense_{i}_{model_name}')(x)\n",
        "      x = layers.Dropout(0.5, name=f'dropout_{i}_{model_name}')(x)\n",
        "  else:\n",
        "      x = layers.Dense(1000,\n",
        "                       activation='relu',\n",
        "                       kernel_regularizer='l2',\n",
        "                       bias_regularizer='l2',\n",
        "                       name=f'dense_0_{model_name}')(inputs)\n",
        "      x = layers.Dense(1000,\n",
        "                       activation='relu',\n",
        "                       kernel_regularizer='l2',\n",
        "                       bias_regularizer='l2',\n",
        "                       name=f'dense_1_{model_name}')(x)\n",
        "  \n",
        "  outputs = layers.Dense(10,\n",
        "                         activation='softmax',\n",
        "                         name=f'output_{model_name}')(x)\n",
        "  \n",
        "  model = Model(inputs=inputs, outputs=outputs, name=model_name)\n",
        "\n",
        "  # compile\n",
        "  if optimizer == 'adagrad':\n",
        "    opt = keras.optimizers.Adagrad(name=f'adagrad_{model_name}')\n",
        "  elif optimizer == 'rmsprop':\n",
        "    opt = keras.optimizers.RMSprop(name=f'rmsprop_{model_name}')\n",
        "  elif optimizer == 'nadam':\n",
        "    opt = keras.optimizers.Nadam(name=f'nadam_{model_name}')\n",
        "  elif optimizer == 'adadelta':\n",
        "    opt = keras.optimizers.Adadelta(name=f'adadelta_{model_name}')\n",
        "  elif optimizer == 'adam':\n",
        "    opt = keras.optimizers.Adam(name=f'adam_{model_name}')\n",
        "  else:\n",
        "    raise NotImplementedError\n",
        "  \n",
        "  model.compile(loss='categorical_crossentropy',\n",
        "                optimizer=opt,\n",
        "                metrics=['acc'])\n",
        "  \n",
        "  # return\n",
        "  return model"
      ]
    },
    {
      "cell_type": "code",
      "execution_count": 6,
      "metadata": {
        "id": "U9iJFncKoU_v"
      },
      "outputs": [],
      "source": [
        "from time import time"
      ]
    },
    {
      "cell_type": "code",
      "execution_count": 7,
      "metadata": {
        "colab": {
          "base_uri": "https://localhost:8080/",
          "height": 960
        },
        "id": "qeSzeZTFoU1T",
        "outputId": "50934373-f5ea-4edd-99d0-64351af6c4f8"
      },
      "outputs": [
        {
          "output_type": "stream",
          "name": "stdout",
          "text": [
            "training adagrad without dropout...\n",
            "training rmsprop without dropout...\n",
            "training nadam without dropout...\n",
            "training adadelta without dropout...\n",
            "training adam without dropout...\n",
            "adagrad\n",
            "\tMinimum Training Loss: 1.5984597206115723\n",
            "\tFinal Training Loss: 1.5984597206115723\n",
            "rmsprop\n",
            "\tMinimum Training Loss: 1.952917218208313\n",
            "\tFinal Training Loss: 1.957898736000061\n",
            "nadam\n",
            "\tMinimum Training Loss: 1.809017300605774\n",
            "\tFinal Training Loss: 1.837280511856079\n",
            "adadelta\n",
            "\tMinimum Training Loss: 4.717377662658691\n",
            "\tFinal Training Loss: 4.717377662658691\n",
            "adam\n",
            "\tMinimum Training Loss: 1.8328505754470825\n",
            "\tFinal Training Loss: 1.8562946319580078\n"
          ]
        },
        {
          "output_type": "execute_result",
          "data": {
            "text/plain": [
              "Text(0.5, 1.0, 'Training Loss Per Optimizer (No Dropout)')"
            ]
          },
          "metadata": {},
          "execution_count": 7
        },
        {
          "output_type": "display_data",
          "data": {
            "text/plain": [
              "<Figure size 864x648 with 1 Axes>"
            ],
            "image/png": "[encoded data removed]"
          },
          "metadata": {}
        }
      ],
      "source": [
        "OPTIMIZERS = ['adagrad', 'rmsprop', 'nadam', 'adadelta', 'adam']\n",
        "METRICS = dict()\n",
        "for opt in OPTIMIZERS:\n",
        "  print(f'training {opt} without dropout...')\n",
        "  model = create_model(model_name = opt, optimizer=opt, dropout=False)\n",
        "  t1 = time()\n",
        "  history = model.fit(x=x_train,\n",
        "                      y=y_train,\n",
        "                      epochs=200,\n",
        "                      batch_size=128,\n",
        "                      verbose=0)\n",
        "  t2 = time()\n",
        "  METRICS[opt] = {\n",
        "      'history': history,\n",
        "      'training_time': t2 - t1,\n",
        "      'test_acc': model.evaluate(x_test, y_test, return_dict=True, verbose=0)['acc']\n",
        "  }\n",
        "\n",
        "  import matplotlib.pyplot as plt\n",
        "import pandas as pd\n",
        "import seaborn as sns\n",
        "sns.set_theme(style=\"darkgrid\")\n",
        "\n",
        "\n",
        "DATA = {\n",
        "    'optimizer': [],\n",
        "    'epoch': [],\n",
        "    'training_loss': []\n",
        "}\n",
        "\n",
        "for opt in METRICS.keys():\n",
        "  opt_hist = METRICS[opt]['history']\n",
        "  opt_loss = opt_hist.history['loss']\n",
        "  DATA['optimizer'] += [opt] * 200\n",
        "  DATA['epoch'] += [i+1 for i in range(200)]\n",
        "  DATA['training_loss'] += opt_loss\n",
        "  print(f'{opt}\\n\\tMinimum Training Loss: {min(opt_loss)}\\n\\tFinal Training Loss: {opt_loss[-1]}')\n",
        "\n",
        "df = pd.DataFrame(data=DATA)\n",
        "\n",
        "fig, ax = plt.subplots(figsize=(12, 9))\n",
        "sns.lineplot(x='epoch', y='training_loss', hue='optimizer', data=df)\n",
        "plt.legend(fontsize=14)\n",
        "plt.title('Training Loss Per Optimizer (No Dropout)')"
      ]
    },
    {
      "cell_type": "code",
      "execution_count": null,
      "metadata": {
        "id": "fM-NTVEkpDKB"
      },
      "outputs": [],
      "source": [
        ""
      ]
    },
    {
      "cell_type": "code",
      "execution_count": null,
      "metadata": {
        "id": "pqwOC5jppDBc"
      },
      "outputs": [],
      "source": [
        ""
      ]
    },
    {
      "cell_type": "markdown",
      "metadata": {
        "id": "UN6MkKoplCVa"
      },
      "source": [
        "## 3)\n",
        "\n",
        "Add dropout (probability 0.2 for input layer and 0.5 for hidden layers) and train the neural network again using all the five methods for 200 epochs. Compare the training loss with that in part 2. Which method performs the best? For the five methods, compare their training time (to finish 200 epochs with dropout) to the training time in part 2 (to finish 200 epochs without dropout). (5)"
      ]
    },
    {
      "cell_type": "code",
      "execution_count": 9,
      "metadata": {
        "colab": {
          "base_uri": "https://localhost:8080/",
          "height": 960
        },
        "id": "HW_W2SjWpc2z",
        "outputId": "21363c7c-5a14-4cce-c4b0-8f209aab8ced"
      },
      "outputs": [
        {
          "output_type": "stream",
          "name": "stdout",
          "text": [
            "training adagrad with dropout...\n",
            "training rmsprop with dropout...\n",
            "training nadam with dropout...\n",
            "training adadelta with dropout...\n",
            "training adam with dropout...\n",
            "adagrad\n",
            "\tMinimum Training Loss: 1.7180548906326294\n",
            "\tFinal Training Loss: 1.7199056148529053\n",
            "rmsprop\n",
            "\tMinimum Training Loss: 2.247166633605957\n",
            "\tFinal Training Loss: 2.2615363597869873\n",
            "nadam\n",
            "\tMinimum Training Loss: 2.207120180130005\n",
            "\tFinal Training Loss: 2.287813425064087\n",
            "adadelta\n",
            "\tMinimum Training Loss: 5.576839923858643\n",
            "\tFinal Training Loss: 5.576839923858643\n",
            "adam\n",
            "\tMinimum Training Loss: 2.305711030960083\n",
            "\tFinal Training Loss: 2.3791139125823975\n"
          ]
        },
        {
          "output_type": "execute_result",
          "data": {
            "text/plain": [
              "Text(0.5, 1.0, 'Training Loss Per Optimizer (With Dropout)')"
            ]
          },
          "metadata": {},
          "execution_count": 9
        },
        {
          "output_type": "display_data",
          "data": {
            "text/plain": [
              "<Figure size 864x648 with 1 Axes>"
            ],
            "image/png": "[encoded data removed]"
          },
          "metadata": {}
        }
      ],
      "source": [
        "OPTIMIZERS = ['adagrad', 'rmsprop', 'nadam', 'adadelta', 'adam']\n",
        "METRICS_DROPOUT = dict()\n",
        "for opt in OPTIMIZERS:\n",
        "  print(f'training {opt} with dropout...')\n",
        "  model = create_model(model_name = opt, optimizer=opt, dropout=True)\n",
        "  t1 = time()\n",
        "  history = model.fit(x=x_train,\n",
        "                      y=y_train,\n",
        "                      epochs=200,\n",
        "                      batch_size=128,\n",
        "                      verbose=0)\n",
        "  t2 = time()\n",
        "  METRICS_DROPOUT[opt] = {\n",
        "      'history': history,\n",
        "      'training_time': t2 - t1,\n",
        "      'test_acc': model.evaluate(x_test, y_test, return_dict=True, verbose=0)['acc']\n",
        "  }\n",
        "\n",
        "  DATA = {\n",
        "    'optimizer': [],\n",
        "    'epoch': [],\n",
        "    'training_loss': []\n",
        "}\n",
        "\n",
        "for opt in METRICS_DROPOUT.keys():\n",
        "  opt_hist = METRICS_DROPOUT[opt]['history']\n",
        "  opt_loss = opt_hist.history['loss']\n",
        "  DATA['optimizer'] += [opt] * 200\n",
        "  DATA['epoch'] += [i+1 for i in range(200)]\n",
        "  DATA['training_loss'] += opt_loss\n",
        "  print(f'{opt}\\n\\tMinimum Training Loss: {min(opt_loss)}\\n\\tFinal Training Loss: {opt_loss[-1]}')\n",
        "\n",
        "df_dropout = pd.DataFrame(data=DATA)\n",
        "\n",
        "fig, ax = plt.subplots(figsize=(12, 9))\n",
        "sns.lineplot(x='epoch', y='training_loss', hue='optimizer', data=df_dropout)\n",
        "plt.legend(fontsize=14)\n",
        "plt.title('Training Loss Per Optimizer (With Dropout)')"
      ]
    },
    {
      "cell_type": "code",
      "execution_count": 10,
      "metadata": {
        "colab": {
          "base_uri": "https://localhost:8080/"
        },
        "id": "1cJd0g33plMq",
        "outputId": "08ae781b-0b53-44ef-ab4a-58e9455ad664"
      },
      "outputs": [
        {
          "output_type": "stream",
          "name": "stdout",
          "text": [
            "--- adagrad ---\n",
            "\tTraining Time:\n",
            "\t\tNon Dropout: 499.5125606060028\n",
            "\t\tDropout: 562.9347956180573\n",
            "\tTraining Loss:\n",
            "\t\tNon Dropout: 1.5984597206115723\n",
            "\t\tDropout: 1.7180548906326294\n",
            "--- rmsprop ---\n",
            "\tTraining Time:\n",
            "\t\tNon Dropout: 630.0826940536499\n",
            "\t\tDropout: 683.6910231113434\n",
            "\tTraining Loss:\n",
            "\t\tNon Dropout: 1.952917218208313\n",
            "\t\tDropout: 2.247166633605957\n",
            "--- nadam ---\n",
            "\tTraining Time:\n",
            "\t\tNon Dropout: 863.3716242313385\n",
            "\t\tDropout: 923.207436800003\n",
            "\tTraining Loss:\n",
            "\t\tNon Dropout: 1.809017300605774\n",
            "\t\tDropout: 2.207120180130005\n",
            "--- adadelta ---\n",
            "\tTraining Time:\n",
            "\t\tNon Dropout: 562.6506960391998\n",
            "\t\tDropout: 562.7839548587799\n",
            "\tTraining Loss:\n",
            "\t\tNon Dropout: 4.717377662658691\n",
            "\t\tDropout: 5.576839923858643\n",
            "--- adam ---\n",
            "\tTraining Time:\n",
            "\t\tNon Dropout: 502.70108246803284\n",
            "\t\tDropout: 516.3755345344543\n",
            "\tTraining Loss:\n",
            "\t\tNon Dropout: 1.8328505754470825\n",
            "\t\tDropout: 2.305711030960083\n"
          ]
        }
      ],
      "source": [
        "for opt in OPTIMIZERS:\n",
        "  print(f'--- {opt} ---')\n",
        "\n",
        "  non_dropout_opt_metrics = METRICS[opt]\n",
        "  dropout_opt_metrics = METRICS_DROPOUT[opt]\n",
        "  print('\\tTraining Time:')\n",
        "  print(f\"\\t\\tNon Dropout: {non_dropout_opt_metrics['training_time']}\")\n",
        "  print(f\"\\t\\tDropout: {dropout_opt_metrics['training_time']}\")\n",
        "  print('\\tTraining Loss:')\n",
        "  print(f\"\\t\\tNon Dropout: {min(non_dropout_opt_metrics['history'].history['loss'])}\")\n",
        "  print(f\"\\t\\tDropout: {min(dropout_opt_metrics['history'].history['loss'])}\")"
      ]
    },
    {
      "cell_type": "code",
      "execution_count": 11,
      "metadata": {
        "colab": {
          "base_uri": "https://localhost:8080/"
        },
        "id": "6OoifYwqpoNS",
        "outputId": "3a915af4-3f9a-4e1e-e19b-456b23441749"
      },
      "outputs": [
        {
          "output_type": "stream",
          "name": "stdout",
          "text": [
            "--- adagrad ---\n",
            "\tTest Accuracy:\n",
            "\t\tNon Dropout: 0.5092999935150146\n",
            "\t\tDropout: 0.4781000018119812\n",
            "--- rmsprop ---\n",
            "\tTest Accuracy:\n",
            "\t\tNon Dropout: 0.36320000886917114\n",
            "\t\tDropout: 0.2190999984741211\n",
            "--- nadam ---\n",
            "\tTest Accuracy:\n",
            "\t\tNon Dropout: 0.43700000643730164\n",
            "\t\tDropout: 0.27619999647140503\n",
            "--- adadelta ---\n",
            "\tTest Accuracy:\n",
            "\t\tNon Dropout: 0.4456999897956848\n",
            "\t\tDropout: 0.4043999910354614\n",
            "--- adam ---\n",
            "\tTest Accuracy:\n",
            "\t\tNon Dropout: 0.4431999921798706\n",
            "\t\tDropout: 0.2401999980211258\n"
          ]
        }
      ],
      "source": [
        "for opt in OPTIMIZERS:\n",
        "  print(f'--- {opt} ---')\n",
        "\n",
        "  non_dropout_opt_metrics = METRICS[opt]\n",
        "  dropout_opt_metrics = METRICS_DROPOUT[opt]\n",
        "  print('\\tTest Accuracy:')\n",
        "  print(f\"\\t\\tNon Dropout: {non_dropout_opt_metrics['test_acc']}\")\n",
        "  print(f\"\\t\\tDropout: {dropout_opt_metrics['test_acc']}\")"
      ]
    },
    {
      "cell_type": "markdown",
      "metadata": {
        "id": "NzvL0KiGnfr4"
      },
      "source": [
        "## 4)\n",
        "\n",
        "Compare test accuracy of the trained model for all the five methods from part 2 and part 3. Note that to calculate test accuracy of the model trained using dropout you need to appropriately scale the weights (by the dropout probability).\n"
      ]
    },
    {
      "cell_type": "markdown",
      "metadata": {
        "id": "dKoWeEirnfYf"
      },
      "source": [
        ""
      ]
    },
    {
      "cell_type": "code",
      "execution_count": 12,
      "metadata": {
        "colab": {
          "base_uri": "https://localhost:8080/"
        },
        "id": "QIN0-TsGncmo",
        "outputId": "33920199-b524-4332-c7ee-fe11de2f5db5"
      },
      "outputs": [
        {
          "output_type": "stream",
          "name": "stdout",
          "text": [
            "--- adagrad ---\n",
            "\tTest Accuracy:\n",
            "\t\tNon Dropout: 0.5092999935150146\n",
            "\t\tDropout: 0.4781000018119812\n",
            "--- rmsprop ---\n",
            "\tTest Accuracy:\n",
            "\t\tNon Dropout: 0.36320000886917114\n",
            "\t\tDropout: 0.2190999984741211\n",
            "--- nadam ---\n",
            "\tTest Accuracy:\n",
            "\t\tNon Dropout: 0.43700000643730164\n",
            "\t\tDropout: 0.27619999647140503\n",
            "--- adadelta ---\n",
            "\tTest Accuracy:\n",
            "\t\tNon Dropout: 0.4456999897956848\n",
            "\t\tDropout: 0.4043999910354614\n",
            "--- adam ---\n",
            "\tTest Accuracy:\n",
            "\t\tNon Dropout: 0.4431999921798706\n",
            "\t\tDropout: 0.2401999980211258\n"
          ]
        }
      ],
      "source": [
        "for opt in OPTIMIZERS:\n",
        "  print(f'--- {opt} ---')\n",
        "\n",
        "  non_dropout_opt_metrics = METRICS[opt]\n",
        "  dropout_opt_metrics = METRICS_DROPOUT[opt]\n",
        "  print('\\tTest Accuracy:')\n",
        "  print(f\"\\t\\tNon Dropout: {non_dropout_opt_metrics['test_acc']}\")\n",
        "  print(f\"\\t\\tDropout: {dropout_opt_metrics['test_acc']}\")"
      ]
    },
    {
      "cell_type": "markdown",
      "metadata": {
        "id": "oGU4GpCGpVJc"
      },
      "source": [
        "# Problem 5 - Convolutional Neural Networks Architectures 25 points"
      ]
    },
    {
      "cell_type": "markdown",
      "metadata": {
        "id": "kFzD25Xbnw5Z"
      },
      "source": [
        "## 1)\n",
        "\n",
        "Calculate the number of parameters in Alexnet. You will have to show calculations for each layer and then sum it to obtain the total number of parameters in Alexnet. When calculating you will need to account for all the filters (size, strides, padding) at each layer. Look at Sec. 3.5 and Figure 2 in Alexnet paper (see reference). Points will only be given when explicit calculations are shown for each layer. (4)"
      ]
    },
    {
      "cell_type": "markdown",
      "source": [
        "Below is a table depicting the inputs, outputs, and number of parameters for each layer in AlexNet (note, bias is included):\n",
        "\n",
        "| Layer | Input Size | Layer Description | Number of Parameters | Output Size |\n",
        "|---|---|---|---|---|\n",
        "| Input | 3 x 27 x 27 | | | 3 x 27 x 27 |\n",
        "| Convolution | 3 x 27 x 27 | 11 x 11 filter, 96 filters, stride 4 | (11 x 11 x 3 + 1) x 96 = 34944 | 96 x 55 x 55 |\n",
        "| Max Pooling | 96 x 55 x 55 | 3 x 3 filter, stride 2 | | 96 x 27 x 27 |\n",
        "| Normalizing | 96 x 27 x 27 | | | 96 x 27 x 27 |\n",
        "| Convolution | 96 x 27 x 27 | 5 x 5 filter, 256 filters, stride 1, padding 2 | (5 x 5 x 96 + 1) x 256 = 614656 | 256 x 27 x 27 |\n",
        "| Max Pooling | 256 x 27 x 27 | 3 x 3 filter, stride 2 | | 256 x 13 x 13 |\n",
        "| Normalizing | 256 x 13 x 13 | | | 256 x 13 x 13 |\n",
        "| Convolution | 256 x 13 x 13 | 3 x 3 filter, 384 filters, stride 1, padding 1 | (3 x 3 x 256 + 1) x 384 = 885120 | 384 x 13 x 13 |\n",
        "| Convolution | 384 x 13 x 13 | 3 x 3 filters, 384 filters, stride 1, padding 1 | (3 x 3 x 384 + 1) x 384 = 1327488 | 384 x 13 x 13 |\n",
        "| Convolution | 384 x 13 x 13 | 3 x 3 filters, 256 filters, stride 1, padding 1 | (3 x 3 x 384 + 1) x 256 = 884992 | 256 x 13 x 13 |\n",
        "| Max Pooling | 256 x 13 x 13 | 3 x 3 filter, stride 2 | | 256 x 6 x 6 |\n",
        "| Dense | 256 x 6 x 6 | 4096 units | 256 x 6 x 6 x 4096 = 37748736 | 4096 |\n",
        "| Dense | 4096 | 4096 units | 4096 x 4096 = 16777216 | 4096 |\n",
        "| Dense | 4096 | 1000 units | 4096 x 1000 = 4096000 | 1000 |\n",
        "\n",
        "Summing the Number of Parameters columns shows that AlexNet in total contains 62369152 learning parameters."
      ],
      "metadata": {
        "id": "S6D65rSSDfon"
      }
    },
    {
      "cell_type": "markdown",
      "metadata": {
        "id": "rfZrIyAfnpEb"
      },
      "source": [
        "## 2)\n",
        "\n",
        "VGG (Simonyan et al.) has an extremely homogeneous architecture that only performs 3x3 convolutions with stride 1 and pad 1 and 2x2 max pooling with stride 2 (and no padding) from the beginning to the end. However VGGNet is very expensive to evaluate and uses a lot more memory and parameters. Refer to VGG19 architecture on page 3 in Table 1 of the paper by Simonyan et al. You need to complete Table 1 below for calculating activation units and parameters at each layer in VGG19 (without counting biases). Its been partially filled for you. (6)"
      ]
    },
    {
      "cell_type": "markdown",
      "source": [
        "| Layer | Number of Activations (Memory) | Parameters (Compute) |\n",
        "|---|---|---|\n",
        "| Input | 224 x 224 x 3 = 150K | 0 |\n",
        "| CONV3-64 | 224 x 224 x 64 = 3.2M | (3 x 3 x 3) x 64 = 1728 |\n",
        "| CONV3-64 | 224 x 224 x 64 = 3.2M | (3 x 3 x 64) x 64 = 36864 |\n",
        "| POOL2 | 112 x 112 x 64 = 800K | 0 |\n",
        "| CONV3-128 | 112 x 112 x 128 = 1.6M | (3 x 3 x 64) x 128 = 73728 |\n",
        "| CONV3-128 | 112 x 112 x 128 = 1.6M | (3 x 3 x 128) x 128 = 147456 |\n",
        "| POOL2 | 56 x 56 x 128 = 400K | 0 |\n",
        "| CONV3-256 | 56 x 56 x 256 = 800K | (3 x 3 x 128) x 256 = 294912 |\n",
        "| CONV3-256 | 56 x 56 x 256 = 800K | (3 x 3 x 256) x 256 = 589824 |\n",
        "| CONV3-256 | 56 x 56 x 256 = 800K | (3 x 3 x 256) x 256 = 589824 |\n",
        "| CONV3-256 | 56 x 56 x 256 = 800K | (3 x 3 x 256) x 256 = 589824 |\n",
        "| POOL2 | 28 x 28 x 256 = 200K | 0 |\n",
        "| CONV3-512 | 28 x 28 x 512 = 400K | (3 x 3 x 256) x 512 = 1179648 |\n",
        "| CONV3-512 | 28 x 28 x 512 = 400K | (3 x 3 x 512) x 512 = 2359296 |\n",
        "| CONV3-512 | 28 x 28 x 512 = 400K | (3 x 3 x 512) x 512 = 2359296 |\n",
        "| CONV3-512 | 28 x 28 x 512 = 400K | (3 x 3 x 512) x 512 = 2359296 |\n",
        "| POOL2 | 14 x 14 x 512 = 100K | 0 |\n",
        "| CONV3-512 | 14 x 14 x 512 = 100K | (3 x 3 x 512) x 512 = 2359296 |\n",
        "| CONV3-512 | 14 x 14 x 512 = 100K | (3 x 3 x 512) x 512 = 2359296 |\n",
        "| CONV3-512 | 14 x 14 x 512 = 100K | (3 x 3 x 512) x 512 = 2359296 |\n",
        "| CONV3-512 | 14 x 14 x 512 = 100K | (3 x 3 x 512) x 512 = 2359296 |\n",
        "| POOL2 | 7 x 7 x 512 = 25K | 0 |\n",
        "| FC | 4096 | (7 x 7 x 512) x 4096 = 102760448 |\n",
        "| FC | 4096 | 4096 x 4096 = 16777216 |\n",
        "| FC | 1000 | 4096 x 1000 = 4096000 |\n",
        "| TOTAL | 16M | 143652544 |"
      ],
      "metadata": {
        "id": "yU8m6JkODk9M"
      }
    },
    {
      "cell_type": "markdown",
      "metadata": {
        "id": "7XTwqJWWno41"
      },
      "source": [
        "## 3)\n",
        "\n",
        "\n",
        "VGG architectures have smaller filters but deeper networks compared to Alexnet (3x3 compared to 11x11 or 5x5). Show that a stack of N convolution layers each of filter size F × F has the same receptive field as one convolution layer with filter of size (NF − N + 1) × (NF − N + 1). Use this to calculate the receptive field of 3 filters of size 5x5. (3)"
      ]
    },
    {
      "cell_type": "markdown",
      "metadata": {
        "id": "R4EZMFyKqRul"
      },
      "source": [
        "**A**:\\\n",
        "An convolution activation field is $L - F + 1$ where $L$ and $F$ are the length of the input image (assuming square) and convolution filter size (assuming square as well) respectively.\n",
        "\n",
        "The first of $N$ successive stacks of convolutions on an $F x F$ filter results in an output activation map of: \n",
        "$$ L - F + 1 $$\n",
        "\n",
        "Repeating the convolution on this output yields:\n",
        "\n",
        "$$ (L - F + 1) - F + 1 = L - 2F + 2 $$\n",
        "\n",
        "Repeating a third time results in:\n",
        "\n",
        "$$ (L - 2F + 2) - F + 1 = L - 3F + 3 $$\n",
        "\n",
        "It is easy to see that stacking $N$ convolution filters successively results in an output activation size $ L - NF + N $.\n",
        "\n",
        "one convolution of filter size $ (NF - N + 1) $ yields:\n",
        "\n",
        "$$ L - (NF - N + 1) + 1 = L - NF + N $$\n",
        "\n",
        "This is the same as above .\n",
        "\n",
        "Using the formula to calculate the output of 3 successive 5 x 5 filters results in an output size of:\n",
        "\n",
        "$$ L - 3 x 5 + 3 = L - 12 $$\n",
        "\n",
        "Using CIFAR-10 32x32 images as an example, the output size of 3 5x5 filters on this dataset would be a 20 x 20 feature map."
      ]
    },
    {
      "cell_type": "markdown",
      "metadata": {
        "id": "_U7tsPkOnop6"
      },
      "source": [
        "## 4)\n",
        "\n",
        "The original Googlenet paper (Szegedy et al.) proposes two architectures for Inception module, shown in Figure 2 on page 5 of the paper, referred to as naive and dimensionality reduction respectively.\n",
        "###(a) \n",
        "What is the general idea behind designing an inception module (parallel convolutional filters of different sizes with a pooling followed by concatenation) in a convolutional neural network ? (2)\n",
        "\n",
        "The general idea behind an inception module is to preserve local feature correlations of various sizes while also maintaining the sparsity that leads to reasonable training time and model size. Inception modules can be thought of as a dimensionality reduction technique within network while still allowing for state-of-the-art model performance.\n",
        "\n",
        "###(b) \n",
        "Assuming the input to inception module (referred to as ”previous layer” in Figure 2 of the pa- per) has size 32x32x256, calculate the output size after filter concatenation for the naive and dimensionality reduction inception architectures with number of filters given in Figure 1. (3)\n",
        "\n",
        "For the naive version and the dimensionality reduction version, we zero-pad each convolution so that they can be concatenated together.\n",
        "\n",
        "For the naive Inception module, the output of the three convolution branches and one max pooling branch are $32x32x128$, $32x32x192$, $32x32x96$, and $32x32x256$ respectively. This results in a dimension of $32x32x672$ coming out of the concatenation layer.\n",
        "\n",
        "As for the dimensionality reduction module, the output of the three convolution branches and one max pooling branch are $32x32x128$, $32x32x192$, $32x32x96$, and $32x32x64$ respectively. This results in a dimension of $32x32x480$ coming out of the concatenation layer.\n",
        "\n",
        "###(c) \n",
        "Next calculate the total number of convolutional operations for each of the two inception archi- tecture again assuming the input to the module has dimensions 32x32x256 and number of filters given in Figure 1. (3)\n",
        "\n",
        "For the Naive architecture:\n",
        "\n",
        "```\n",
        "# First Convolution Block\n",
        "(32 x 32) x (1 x 1 x 256) x 128 = 33,554,432 Multiplications\n",
        "\n",
        "# Second Convolution Block\n",
        "(32 x 32) x (3 x 3 x 256) x 192 = 452,984,832 Multiplications\n",
        "\n",
        "# Third Convolution Block\n",
        "(32 x 32) x (5 x 5 x 256) x 96 = 629,145,600 Multiplications\n",
        "\n",
        "TOTAL = 33,554,432 + 452,984,832 + 629,145,600 = 1.11B Multiplications\n",
        "```\n",
        "\n",
        "For the Dimensionality Reduction architecture\n",
        "\n",
        "```\n",
        "# First Convolution Block\n",
        "(32 x 32) x (1 x 1 x 256) x 128 = 33,554,432 Multiplications\n",
        "\n",
        "# Second Convolution Block\n",
        "(32 x 32) x (1 x 1 x 256) x 128 = 33,554,432 Multiplications\n",
        "(32 x 32) x (3 x 3 x 128) x 192 = 226,492,416 Multiplications\n",
        "\n",
        "# Third Convolution Block\n",
        "(32 x 32) x (1 x 1 x 256) x 32 = 8,388,608 Multiplications\n",
        "(32 x 32) x (5 x 5 x 32) x 96 = 78,643,200 Multiplications\n",
        "\n",
        "# Max Pooling Block\n",
        "(32 x 32) x (1 x 1 x 256) x 64 = 16,777,216 Multiplications\n",
        "\n",
        "TOTAL = 33,554,432 + (33,554,432 + 226,492,416) + (8,388,608 + 78,643,200) + 16,777,216 = 397M Multiplications\n",
        "```\n",
        "\n",
        "\n",
        "###(d) \n",
        "Based on the calculations in part (c) explain the problem with naive architecture and how dimen- sionality reduction architecture helps (Hint: compare computational complexity). How much is the computational saving ? (2+2)\n",
        "\n",
        "The naive architecture still generates a lot of parameters despite the attempt to go \"wide\" instead of \"deep\". The dimensionality reduction architecture helps in this by first reducing the dimension with $n$ smaller $1x1$ filters where $n$ is less than the input dimension of the Inception module.\n",
        "\n",
        "Based on the calculations from part c, the dimensionality reduction architecture reduces the number of multiplications needed in the naive architecture by a factor of roughly 3."
      ]
    },
    {
      "cell_type": "markdown",
      "metadata": {
        "id": "2ECiDm5wnoba"
      },
      "source": [
        ""
      ]
    },
    {
      "cell_type": "markdown",
      "metadata": {
        "id": "YGYy1bk1noL3"
      },
      "source": [
        ""
      ]
    }
  ],
  "metadata": {
    "accelerator": "GPU",
    "colab": {
      "collapsed_sections": [],
      "name": "hw3-qs2097-200.ipynb",
      "provenance": [],
      "toc_visible": true
    },
    "kernelspec": {
      "display_name": "Python 3 (ipykernel)",
      "language": "python",
      "name": "python3"
    },
    "language_info": {
      "codemirror_mode": {
        "name": "ipython",
        "version": 3
      },
      "file_extension": ".py",
      "mimetype": "text/x-python",
      "name": "python",
      "nbconvert_exporter": "python",
      "pygments_lexer": "ipython3",
      "version": "3.9.7"
    }
  },
  "nbformat": 4,
  "nbformat_minor": 0
}